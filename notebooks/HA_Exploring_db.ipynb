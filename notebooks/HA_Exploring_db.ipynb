{
 "cells": [
  {
   "attachments": {},
   "cell_type": "markdown",
   "metadata": {},
   "source": [
    "# Exploring duckdb, making plots, and messing around with SQL"
   ]
  },
  {
   "cell_type": "code",
   "execution_count": 1,
   "metadata": {},
   "outputs": [],
   "source": [
    "# dependecies\n",
    "import matplotlib.pyplot as plt\n",
    "import seaborn as sns\n",
    "import pandas as pd\n",
    "import numpy as np\n",
    "import os\n",
    "import scipy.stats\n",
    "\n",
    "# database (make sure to install this. I will make an virtual enviroment for all the dependecies later)\n",
    "import duckdb"
   ]
  },
  {
   "cell_type": "code",
   "execution_count": 3,
   "metadata": {},
   "outputs": [],
   "source": [
    "# seaborn plot configurations\n",
    "sns.set_context('talk')\n",
    "#sns.set_style('whitegrid')\n",
    "palette = sns.color_palette('colorblind')"
   ]
  },
  {
   "attachments": {},
   "cell_type": "markdown",
   "metadata": {},
   "source": [
    "#### Exploring duck"
   ]
  },
  {
   "cell_type": "code",
   "execution_count": 4,
   "metadata": {},
   "outputs": [],
   "source": [
    "# establishing connection to the database (from local repo)\n",
    "con = duckdb.connect('/Users/humoodalanzi/learn2therm/data/database')"
   ]
  },
  {
   "cell_type": "code",
   "execution_count": 5,
   "metadata": {},
   "outputs": [
    {
     "data": {
      "text/plain": [
       "<duckdb.DuckDBPyConnection at 0x7f8ea10c08b0>"
      ]
     },
     "execution_count": 5,
     "metadata": {},
     "output_type": "execute_result"
    }
   ],
   "source": [
    "# what is this connection? (somekind of special object)\n",
    "con"
   ]
  },
  {
   "cell_type": "code",
   "execution_count": 6,
   "metadata": {},
   "outputs": [],
   "source": [
    "# creating a table that has my protein pairs as well as my taxa pairs (check schema table shared in Slack)\n",
    "test = con.execute(\"\"\"\n",
    "    SELECT \n",
    "        protein_pairs.prot_pair_index,\n",
    "        proteins_m.protein_seq AS meso_seq,\n",
    "        proteins_t.protein_seq AS thermo_seq,\n",
    "        taxa_m.ogt AS meso_ogt,\n",
    "        taxa_t.ogt AS thermo_ogt,\n",
    "        protein_pairs.scaled_local_symmetric_percent_id\n",
    "    FROM protein_pairs\n",
    "    INNER JOIN taxa AS taxa_m ON (protein_pairs.meso_index=taxa_m.taxa_index)\n",
    "    INNER JOIN taxa AS taxa_t ON (protein_pairs.thermo_index=taxa_t.taxa_index)\n",
    "    INNER JOIN proteins AS proteins_m ON (protein_pairs.meso_protein_int_index=proteins_m.protein_int_index)\n",
    "    INNER JOIN proteins AS proteins_t ON (protein_pairs.thermo_protein_int_index=proteins_t.protein_int_index)\n",
    "    WHERE\n",
    "        taxa_m.len_16s>1300\n",
    "        AND taxa_t.len_16s>1300\n",
    "        AND protein_pairs.local_E_Value< 1e-46\n",
    "        AND protein_pairs.query_align_cov > 0.95\n",
    "        AND protein_pairs.subject_align_cov > 0.95\n",
    "        AND protein_pairs.scaled_local_symmetric_percent_id > 0.7\n",
    "\"\"\").df()"
   ]
  },
  {
   "cell_type": "code",
   "execution_count": 7,
   "metadata": {},
   "outputs": [
    {
     "data": {
      "text/html": [
       "<div>\n",
       "<style scoped>\n",
       "    .dataframe tbody tr th:only-of-type {\n",
       "        vertical-align: middle;\n",
       "    }\n",
       "\n",
       "    .dataframe tbody tr th {\n",
       "        vertical-align: top;\n",
       "    }\n",
       "\n",
       "    .dataframe thead th {\n",
       "        text-align: right;\n",
       "    }\n",
       "</style>\n",
       "<table border=\"1\" class=\"dataframe\">\n",
       "  <thead>\n",
       "    <tr style=\"text-align: right;\">\n",
       "      <th></th>\n",
       "      <th>prot_pair_index</th>\n",
       "      <th>meso_seq</th>\n",
       "      <th>thermo_seq</th>\n",
       "      <th>meso_ogt</th>\n",
       "      <th>thermo_ogt</th>\n",
       "      <th>scaled_local_symmetric_percent_id</th>\n",
       "    </tr>\n",
       "  </thead>\n",
       "  <tbody>\n",
       "    <tr>\n",
       "      <th>0</th>\n",
       "      <td>173543228</td>\n",
       "      <td>MDIDGLRGRLTPNRALADLTWLRVGGPADYLFQPADIEDLSHFMRA...</td>\n",
       "      <td>MTTLPTPRGPLTPNRPLADLTWLRVGGPADWLFQPADEADLAQFLA...</td>\n",
       "      <td>24.0</td>\n",
       "      <td>42.5</td>\n",
       "      <td>0.734959</td>\n",
       "    </tr>\n",
       "    <tr>\n",
       "      <th>1</th>\n",
       "      <td>173547174</td>\n",
       "      <td>MTDGMLDMNAKPTESISVRDVFGIDTDMTIKGFAEGSDRVPALDPT...</td>\n",
       "      <td>MLDQVMKPTEEISVRDVFGIDTDMRVKGFADRTDRVPEIDPTYKFD...</td>\n",
       "      <td>24.0</td>\n",
       "      <td>42.5</td>\n",
       "      <td>0.889571</td>\n",
       "    </tr>\n",
       "    <tr>\n",
       "      <th>2</th>\n",
       "      <td>15218012</td>\n",
       "      <td>MLTFTIRRLILAVPTLLFISLVIFLLLELAPGDPMAQVPLTVPPEV...</td>\n",
       "      <td>MLNYTIRRLILAVPTLLFIALTIFLLLELAPGDPVAHMPLTIPPEV...</td>\n",
       "      <td>24.0</td>\n",
       "      <td>54.0</td>\n",
       "      <td>0.812772</td>\n",
       "    </tr>\n",
       "    <tr>\n",
       "      <th>3</th>\n",
       "      <td>173552217</td>\n",
       "      <td>MTVFAFYLFAISAITGGLFTVISRQPVHSVLWLILAFISSAGLFVL...</td>\n",
       "      <td>MTVFSFAFYMFAVITVTAGLMVTLSRNPVHSVLWLILAFLSTSGLF...</td>\n",
       "      <td>24.0</td>\n",
       "      <td>42.5</td>\n",
       "      <td>0.727723</td>\n",
       "    </tr>\n",
       "    <tr>\n",
       "      <th>4</th>\n",
       "      <td>173552221</td>\n",
       "      <td>MLLAVDCGNTNTVFSIWDGENFVGTWRTATDWRRTADQYYVWLNTL...</td>\n",
       "      <td>MLLAIDCGNTNTVFSIWDGARFLATWRIATDHKRTADEYFVWLSSL...</td>\n",
       "      <td>24.0</td>\n",
       "      <td>42.5</td>\n",
       "      <td>0.719536</td>\n",
       "    </tr>\n",
       "    <tr>\n",
       "      <th>...</th>\n",
       "      <td>...</td>\n",
       "      <td>...</td>\n",
       "      <td>...</td>\n",
       "      <td>...</td>\n",
       "      <td>...</td>\n",
       "      <td>...</td>\n",
       "    </tr>\n",
       "    <tr>\n",
       "      <th>1738489</th>\n",
       "      <td>133632443</td>\n",
       "      <td>MSDAKLEIQMLHDRVMVKLNPEAGERRSSGGILIPATAQVAKRLSW...</td>\n",
       "      <td>MSEPKFEVQMLHDRVMIKVEQESGERRSSGGIVIPATVRQSNRLAW...</td>\n",
       "      <td>28.0</td>\n",
       "      <td>52.5</td>\n",
       "      <td>0.707547</td>\n",
       "    </tr>\n",
       "    <tr>\n",
       "      <th>1738490</th>\n",
       "      <td>58837791</td>\n",
       "      <td>MKYSGWPDSGELVVGEVDEITDFGVFVDLEEYEDKRGLCHISEVAN...</td>\n",
       "      <td>MKYEGWPEPGELVVGKVDEIEDFGVFVDLEEYRDKRGLVHISEVAS...</td>\n",
       "      <td>30.0</td>\n",
       "      <td>42.5</td>\n",
       "      <td>0.726592</td>\n",
       "    </tr>\n",
       "    <tr>\n",
       "      <th>1738491</th>\n",
       "      <td>43501488</td>\n",
       "      <td>MTHVVTENCIKCRYTDCVDVCPVDCFREGPNFLAIDPDECIDCAVC...</td>\n",
       "      <td>MTHVVTENCINCKYTDCVDVCPVDCFKEGPNFLVIDPDECIDCAVC...</td>\n",
       "      <td>30.0</td>\n",
       "      <td>48.0</td>\n",
       "      <td>0.768519</td>\n",
       "    </tr>\n",
       "    <tr>\n",
       "      <th>1738492</th>\n",
       "      <td>143509651</td>\n",
       "      <td>MTHIVTEACIKCKYTDCVDVCPVDCFREGPNFLTIDPDECIDCAVC...</td>\n",
       "      <td>MTHVVTENCINCKYTDCVDVCPVDCFKEGPNFLVIDPDECIDCAVC...</td>\n",
       "      <td>25.0</td>\n",
       "      <td>48.0</td>\n",
       "      <td>0.779817</td>\n",
       "    </tr>\n",
       "    <tr>\n",
       "      <th>1738493</th>\n",
       "      <td>143519180</td>\n",
       "      <td>MTHVVTENCIKCKYTDCVDVCPVDCFREGPNFLVIDPDECIDCAVC...</td>\n",
       "      <td>MTHVVTENCINCKYTDCVDVCPVDCFKEGPNFLVIDPDECIDCAVC...</td>\n",
       "      <td>29.0</td>\n",
       "      <td>48.0</td>\n",
       "      <td>0.825688</td>\n",
       "    </tr>\n",
       "  </tbody>\n",
       "</table>\n",
       "<p>1738494 rows × 6 columns</p>\n",
       "</div>"
      ],
      "text/plain": [
       "         prot_pair_index                                           meso_seq  \\\n",
       "0              173543228  MDIDGLRGRLTPNRALADLTWLRVGGPADYLFQPADIEDLSHFMRA...   \n",
       "1              173547174  MTDGMLDMNAKPTESISVRDVFGIDTDMTIKGFAEGSDRVPALDPT...   \n",
       "2               15218012  MLTFTIRRLILAVPTLLFISLVIFLLLELAPGDPMAQVPLTVPPEV...   \n",
       "3              173552217  MTVFAFYLFAISAITGGLFTVISRQPVHSVLWLILAFISSAGLFVL...   \n",
       "4              173552221  MLLAVDCGNTNTVFSIWDGENFVGTWRTATDWRRTADQYYVWLNTL...   \n",
       "...                  ...                                                ...   \n",
       "1738489        133632443  MSDAKLEIQMLHDRVMVKLNPEAGERRSSGGILIPATAQVAKRLSW...   \n",
       "1738490         58837791  MKYSGWPDSGELVVGEVDEITDFGVFVDLEEYEDKRGLCHISEVAN...   \n",
       "1738491         43501488  MTHVVTENCIKCRYTDCVDVCPVDCFREGPNFLAIDPDECIDCAVC...   \n",
       "1738492        143509651  MTHIVTEACIKCKYTDCVDVCPVDCFREGPNFLTIDPDECIDCAVC...   \n",
       "1738493        143519180  MTHVVTENCIKCKYTDCVDVCPVDCFREGPNFLVIDPDECIDCAVC...   \n",
       "\n",
       "                                                thermo_seq  meso_ogt  \\\n",
       "0        MTTLPTPRGPLTPNRPLADLTWLRVGGPADWLFQPADEADLAQFLA...      24.0   \n",
       "1        MLDQVMKPTEEISVRDVFGIDTDMRVKGFADRTDRVPEIDPTYKFD...      24.0   \n",
       "2        MLNYTIRRLILAVPTLLFIALTIFLLLELAPGDPVAHMPLTIPPEV...      24.0   \n",
       "3        MTVFSFAFYMFAVITVTAGLMVTLSRNPVHSVLWLILAFLSTSGLF...      24.0   \n",
       "4        MLLAIDCGNTNTVFSIWDGARFLATWRIATDHKRTADEYFVWLSSL...      24.0   \n",
       "...                                                    ...       ...   \n",
       "1738489  MSEPKFEVQMLHDRVMIKVEQESGERRSSGGIVIPATVRQSNRLAW...      28.0   \n",
       "1738490  MKYEGWPEPGELVVGKVDEIEDFGVFVDLEEYRDKRGLVHISEVAS...      30.0   \n",
       "1738491  MTHVVTENCINCKYTDCVDVCPVDCFKEGPNFLVIDPDECIDCAVC...      30.0   \n",
       "1738492  MTHVVTENCINCKYTDCVDVCPVDCFKEGPNFLVIDPDECIDCAVC...      25.0   \n",
       "1738493  MTHVVTENCINCKYTDCVDVCPVDCFKEGPNFLVIDPDECIDCAVC...      29.0   \n",
       "\n",
       "         thermo_ogt  scaled_local_symmetric_percent_id  \n",
       "0              42.5                           0.734959  \n",
       "1              42.5                           0.889571  \n",
       "2              54.0                           0.812772  \n",
       "3              42.5                           0.727723  \n",
       "4              42.5                           0.719536  \n",
       "...             ...                                ...  \n",
       "1738489        52.5                           0.707547  \n",
       "1738490        42.5                           0.726592  \n",
       "1738491        48.0                           0.768519  \n",
       "1738492        48.0                           0.779817  \n",
       "1738493        48.0                           0.825688  \n",
       "\n",
       "[1738494 rows x 6 columns]"
      ]
     },
     "execution_count": 7,
     "metadata": {},
     "output_type": "execute_result"
    }
   ],
   "source": [
    "test #dataframe output"
   ]
  },
  {
   "cell_type": "code",
   "execution_count": null,
   "metadata": {},
   "outputs": [],
   "source": []
  }
 ],
 "metadata": {
  "kernelspec": {
   "display_name": "base",
   "language": "python",
   "name": "python3"
  },
  "language_info": {
   "codemirror_mode": {
    "name": "ipython",
    "version": 3
   },
   "file_extension": ".py",
   "mimetype": "text/x-python",
   "name": "python",
   "nbconvert_exporter": "python",
   "pygments_lexer": "ipython3",
   "version": "3.9.13"
  },
  "orig_nbformat": 4,
  "vscode": {
   "interpreter": {
    "hash": "40d3a090f54c6569ab1632332b64b2c03c39dcf918b08424e98f38b5ae0af88f"
   }
  }
 },
 "nbformat": 4,
 "nbformat_minor": 2
}
