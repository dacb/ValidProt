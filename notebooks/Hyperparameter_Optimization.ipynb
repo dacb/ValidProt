{
 "cells": [
  {
   "cell_type": "code",
   "execution_count": 1,
   "id": "eee8aa0e",
   "metadata": {},
   "outputs": [],
   "source": [
    "import matplotlib.pyplot as plt\n",
    "import seaborn as sns\n",
    "import pandas as pd\n",
    "import numpy as np\n",
    "import os\n",
    "import scipy.stats\n",
    "import sklearn.preprocessing\n",
    "import sklearn.model_selection\n",
    "import sklearn.neighbors\n",
    "import sklearn.ensemble\n",
    "import sklearn.feature_selection\n",
    "import unittest\n",
    "\n",
    "import sklearn.datasets\n",
    "import sklearn.tree\n",
    "\n",
    "import optuna"
   ]
  },
  {
   "cell_type": "markdown",
   "id": "1a9fd6a7",
   "metadata": {},
   "source": [
    "***Import dataset/ML code from other notebook***"
   ]
  },
  {
   "cell_type": "code",
   "execution_count": 2,
   "id": "ba87d47f",
   "metadata": {
    "scrolled": false
   },
   "outputs": [
    {
     "name": "stdout",
     "output_type": "stream",
     "text": [
      "/Users/loganroberts/Learn2Therm/ValidProt/data\n"
     ]
    }
   ],
   "source": [
    "cd /Users/loganroberts/Learn2Therm/ValidProt/data"
   ]
  },
  {
   "cell_type": "code",
   "execution_count": 8,
   "id": "f90c1cdd",
   "metadata": {},
   "outputs": [],
   "source": [
    "#convert to pandas df\n",
    "df = pd.read_csv('learn2therm_sample_50k/learn2therm_sample_50k.csv')"
   ]
  },
  {
   "cell_type": "code",
   "execution_count": 9,
   "id": "96d2c565",
   "metadata": {
    "scrolled": true
   },
   "outputs": [
    {
     "data": {
      "text/html": [
       "<div>\n",
       "<style scoped>\n",
       "    .dataframe tbody tr th:only-of-type {\n",
       "        vertical-align: middle;\n",
       "    }\n",
       "\n",
       "    .dataframe tbody tr th {\n",
       "        vertical-align: top;\n",
       "    }\n",
       "\n",
       "    .dataframe thead th {\n",
       "        text-align: right;\n",
       "    }\n",
       "</style>\n",
       "<table border=\"1\" class=\"dataframe\">\n",
       "  <thead>\n",
       "    <tr style=\"text-align: right;\">\n",
       "      <th></th>\n",
       "      <th>Unnamed: 0</th>\n",
       "      <th>local_gap_compressed_percent_id</th>\n",
       "      <th>scaled_local_query_percent_id</th>\n",
       "      <th>scaled_local_symmetric_percent_id</th>\n",
       "      <th>query_align_len</th>\n",
       "      <th>query_align_cov</th>\n",
       "      <th>subject_align_len</th>\n",
       "      <th>subject_align_cov</th>\n",
       "      <th>bit_score</th>\n",
       "      <th>thermo_index</th>\n",
       "      <th>...</th>\n",
       "      <th>bit_score_16s</th>\n",
       "      <th>m_ogt</th>\n",
       "      <th>t_ogt</th>\n",
       "      <th>ogt_difference</th>\n",
       "      <th>m_protein_seq</th>\n",
       "      <th>t_protein_seq</th>\n",
       "      <th>m_protein_desc</th>\n",
       "      <th>t_protein_desc</th>\n",
       "      <th>m_protein_len</th>\n",
       "      <th>t_protein_len</th>\n",
       "    </tr>\n",
       "  </thead>\n",
       "  <tbody>\n",
       "    <tr>\n",
       "      <th>0</th>\n",
       "      <td>0</td>\n",
       "      <td>0.287582</td>\n",
       "      <td>0.217822</td>\n",
       "      <td>0.215686</td>\n",
       "      <td>160</td>\n",
       "      <td>0.792079</td>\n",
       "      <td>152</td>\n",
       "      <td>0.737864</td>\n",
       "      <td>131</td>\n",
       "      <td>875</td>\n",
       "      <td>...</td>\n",
       "      <td>1153.0</td>\n",
       "      <td>27.5</td>\n",
       "      <td>50.0</td>\n",
       "      <td>22.5</td>\n",
       "      <td>MAESGTSRRADHLVPVPGPDAEPPAVADELLRAVGRGDEQAFGRLY...</td>\n",
       "      <td>MPSQITESERIELAERFERDALPLLDQLYSAALRMTRNPADAEDLV...</td>\n",
       "      <td>ECF RNA polymerase sigma factor SigK</td>\n",
       "      <td>sigma-70 family RNA polymerase sigma factor</td>\n",
       "      <td>206</td>\n",
       "      <td>202</td>\n",
       "    </tr>\n",
       "    <tr>\n",
       "      <th>1</th>\n",
       "      <td>1</td>\n",
       "      <td>0.319635</td>\n",
       "      <td>0.295359</td>\n",
       "      <td>0.297872</td>\n",
       "      <td>218</td>\n",
       "      <td>0.919831</td>\n",
       "      <td>226</td>\n",
       "      <td>0.969957</td>\n",
       "      <td>282</td>\n",
       "      <td>11324</td>\n",
       "      <td>...</td>\n",
       "      <td>1014.0</td>\n",
       "      <td>25.0</td>\n",
       "      <td>54.0</td>\n",
       "      <td>29.0</td>\n",
       "      <td>MARIALVDDDRNILTSVSMTLEAEGFEVETYNDGQSALDAFNKRMP...</td>\n",
       "      <td>MRVLLVEDDPNTSRSIEMMLTHANLNVYATDMGEEGIDLAKLYDYD...</td>\n",
       "      <td>response regulator transcription factor</td>\n",
       "      <td>response regulator transcription factor</td>\n",
       "      <td>233</td>\n",
       "      <td>237</td>\n",
       "    </tr>\n",
       "    <tr>\n",
       "      <th>2</th>\n",
       "      <td>2</td>\n",
       "      <td>0.279621</td>\n",
       "      <td>0.234127</td>\n",
       "      <td>0.218924</td>\n",
       "      <td>211</td>\n",
       "      <td>0.837302</td>\n",
       "      <td>210</td>\n",
       "      <td>0.731707</td>\n",
       "      <td>96</td>\n",
       "      <td>875</td>\n",
       "      <td>...</td>\n",
       "      <td>1138.0</td>\n",
       "      <td>28.0</td>\n",
       "      <td>50.0</td>\n",
       "      <td>22.0</td>\n",
       "      <td>MKDTVVFVTGAARGIGAHTARLAVARGARVALVGLEPHLLADLAAE...</td>\n",
       "      <td>MTPEQIFSGQTAIVTGGASGIGAATVEHIARRGGRVFSVDLSYDSP...</td>\n",
       "      <td>SDR family oxidoreductase</td>\n",
       "      <td>SDR family oxidoreductase</td>\n",
       "      <td>287</td>\n",
       "      <td>252</td>\n",
       "    </tr>\n",
       "    <tr>\n",
       "      <th>3</th>\n",
       "      <td>3</td>\n",
       "      <td>0.327273</td>\n",
       "      <td>0.200743</td>\n",
       "      <td>0.214712</td>\n",
       "      <td>166</td>\n",
       "      <td>0.617100</td>\n",
       "      <td>163</td>\n",
       "      <td>0.696581</td>\n",
       "      <td>175</td>\n",
       "      <td>875</td>\n",
       "      <td>...</td>\n",
       "      <td>1077.0</td>\n",
       "      <td>28.0</td>\n",
       "      <td>50.0</td>\n",
       "      <td>22.0</td>\n",
       "      <td>MTSGLWERVLDGVWVTIQLLVLSALLATAVSFVVGIARTHRLWIVR...</td>\n",
       "      <td>MAMSRRKRGQLARGIQYAILVIVVVVLALLADWGKIGKAFFDWEAA...</td>\n",
       "      <td>ectoine/hydroxyectoine ABC transporter permeas...</td>\n",
       "      <td>amino acid ABC transporter permease</td>\n",
       "      <td>234</td>\n",
       "      <td>269</td>\n",
       "    </tr>\n",
       "    <tr>\n",
       "      <th>4</th>\n",
       "      <td>4</td>\n",
       "      <td>0.338710</td>\n",
       "      <td>0.318182</td>\n",
       "      <td>0.287671</td>\n",
       "      <td>60</td>\n",
       "      <td>0.909091</td>\n",
       "      <td>71</td>\n",
       "      <td>0.887500</td>\n",
       "      <td>61</td>\n",
       "      <td>9827</td>\n",
       "      <td>...</td>\n",
       "      <td>991.0</td>\n",
       "      <td>30.0</td>\n",
       "      <td>50.0</td>\n",
       "      <td>20.0</td>\n",
       "      <td>MIISLRRGLRFIRFIVFFAALVYLFYHVLDLFNGWISPVDQYQMPT...</td>\n",
       "      <td>MKRMVWRTLKVFIIFIACTLLFYFGLRFMHLEYEQFHRYEPPEGPA...</td>\n",
       "      <td>YqzK family protein</td>\n",
       "      <td>YqzK family protein</td>\n",
       "      <td>80</td>\n",
       "      <td>66</td>\n",
       "    </tr>\n",
       "  </tbody>\n",
       "</table>\n",
       "<p>5 rows × 30 columns</p>\n",
       "</div>"
      ],
      "text/plain": [
       "   Unnamed: 0  local_gap_compressed_percent_id  scaled_local_query_percent_id  \\\n",
       "0           0                         0.287582                       0.217822   \n",
       "1           1                         0.319635                       0.295359   \n",
       "2           2                         0.279621                       0.234127   \n",
       "3           3                         0.327273                       0.200743   \n",
       "4           4                         0.338710                       0.318182   \n",
       "\n",
       "   scaled_local_symmetric_percent_id  query_align_len  query_align_cov  \\\n",
       "0                           0.215686              160         0.792079   \n",
       "1                           0.297872              218         0.919831   \n",
       "2                           0.218924              211         0.837302   \n",
       "3                           0.214712              166         0.617100   \n",
       "4                           0.287671               60         0.909091   \n",
       "\n",
       "   subject_align_len  subject_align_cov  bit_score  thermo_index  ...  \\\n",
       "0                152           0.737864        131           875  ...   \n",
       "1                226           0.969957        282         11324  ...   \n",
       "2                210           0.731707         96           875  ...   \n",
       "3                163           0.696581        175           875  ...   \n",
       "4                 71           0.887500         61          9827  ...   \n",
       "\n",
       "   bit_score_16s  m_ogt  t_ogt  ogt_difference  \\\n",
       "0         1153.0   27.5   50.0            22.5   \n",
       "1         1014.0   25.0   54.0            29.0   \n",
       "2         1138.0   28.0   50.0            22.0   \n",
       "3         1077.0   28.0   50.0            22.0   \n",
       "4          991.0   30.0   50.0            20.0   \n",
       "\n",
       "                                       m_protein_seq  \\\n",
       "0  MAESGTSRRADHLVPVPGPDAEPPAVADELLRAVGRGDEQAFGRLY...   \n",
       "1  MARIALVDDDRNILTSVSMTLEAEGFEVETYNDGQSALDAFNKRMP...   \n",
       "2  MKDTVVFVTGAARGIGAHTARLAVARGARVALVGLEPHLLADLAAE...   \n",
       "3  MTSGLWERVLDGVWVTIQLLVLSALLATAVSFVVGIARTHRLWIVR...   \n",
       "4  MIISLRRGLRFIRFIVFFAALVYLFYHVLDLFNGWISPVDQYQMPT...   \n",
       "\n",
       "                                       t_protein_seq  \\\n",
       "0  MPSQITESERIELAERFERDALPLLDQLYSAALRMTRNPADAEDLV...   \n",
       "1  MRVLLVEDDPNTSRSIEMMLTHANLNVYATDMGEEGIDLAKLYDYD...   \n",
       "2  MTPEQIFSGQTAIVTGGASGIGAATVEHIARRGGRVFSVDLSYDSP...   \n",
       "3  MAMSRRKRGQLARGIQYAILVIVVVVLALLADWGKIGKAFFDWEAA...   \n",
       "4  MKRMVWRTLKVFIIFIACTLLFYFGLRFMHLEYEQFHRYEPPEGPA...   \n",
       "\n",
       "                                      m_protein_desc  \\\n",
       "0               ECF RNA polymerase sigma factor SigK   \n",
       "1            response regulator transcription factor   \n",
       "2                          SDR family oxidoreductase   \n",
       "3  ectoine/hydroxyectoine ABC transporter permeas...   \n",
       "4                                YqzK family protein   \n",
       "\n",
       "                                t_protein_desc  m_protein_len  t_protein_len  \n",
       "0  sigma-70 family RNA polymerase sigma factor            206            202  \n",
       "1      response regulator transcription factor            233            237  \n",
       "2                    SDR family oxidoreductase            287            252  \n",
       "3          amino acid ABC transporter permease            234            269  \n",
       "4                          YqzK family protein             80             66  \n",
       "\n",
       "[5 rows x 30 columns]"
      ]
     },
     "execution_count": 9,
     "metadata": {},
     "output_type": "execute_result"
    }
   ],
   "source": [
    "df.head()"
   ]
  },
  {
   "cell_type": "markdown",
   "id": "4b99ec26",
   "metadata": {},
   "source": [
    "The following cells are attempts at creating a classification column. Having trouble with the code. Gonna create a dummy."
   ]
  },
  {
   "cell_type": "markdown",
   "id": "bd7fd856",
   "metadata": {},
   "source": [
    "Update: turn categories into a dictionary and iterate through"
   ]
  },
  {
   "cell_type": "markdown",
   "id": "e01275be",
   "metadata": {},
   "source": [
    "ESM - can return a continuous represenation of an AA sequence. Look up repo for ESM\n",
    "\n",
    "start by testing on a single sequence "
   ]
  },
  {
   "cell_type": "code",
   "execution_count": 10,
   "id": "4dd5bd36",
   "metadata": {
    "scrolled": true
   },
   "outputs": [],
   "source": [
    "# #isolate the categories that appear more than 500 times\n",
    "\n",
    "# categories = df_original['t_protein_desc'].value_counts()\n",
    "# categories = categories.iloc[categories.values > 500]\n",
    "# categories_dict = {item: None for item in categories.index}\n",
    "\n",
    "# list_of_cats = list(categories_dict.keys())\n",
    "# list_of_cats"
   ]
  },
  {
   "cell_type": "code",
   "execution_count": 11,
   "id": "25da5fa7",
   "metadata": {},
   "outputs": [],
   "source": [
    "# df = df_original[df_original.t_protein_desc.isin(list_of_cats)]\n",
    "# df.shape"
   ]
  },
  {
   "cell_type": "code",
   "execution_count": 12,
   "id": "f866b4b5",
   "metadata": {
    "scrolled": true
   },
   "outputs": [
    {
     "data": {
      "text/plain": [
       "0    False\n",
       "1     True\n",
       "2     True\n",
       "3    False\n",
       "4     True\n",
       "Name: protein_match, dtype: bool"
      ]
     },
     "execution_count": 12,
     "metadata": {},
     "output_type": "execute_result"
    }
   ],
   "source": [
    "df['protein_match'] = df['t_protein_desc'] == df['m_protein_desc']\n",
    "df['protein_match'].head()"
   ]
  },
  {
   "cell_type": "code",
   "execution_count": 13,
   "id": "957b3880",
   "metadata": {},
   "outputs": [
    {
     "data": {
      "text/plain": [
       "False    25737\n",
       "True     24263\n",
       "Name: protein_match, dtype: int64"
      ]
     },
     "execution_count": 13,
     "metadata": {},
     "output_type": "execute_result"
    }
   ],
   "source": [
    "df['protein_match'].value_counts()"
   ]
  },
  {
   "cell_type": "code",
   "execution_count": 14,
   "id": "084d9561",
   "metadata": {},
   "outputs": [],
   "source": [
    "#get rid of stuff that isn't quantitative\n",
    "\n",
    "df = df.drop(columns = ['Unnamed: 0','thermo_index', 'm_protein_seq', 't_protein_seq',\n",
    "                        'm_protein_desc', 't_protein_desc'])"
   ]
  },
  {
   "cell_type": "code",
   "execution_count": 15,
   "id": "eea27e6c",
   "metadata": {
    "scrolled": true
   },
   "outputs": [
    {
     "data": {
      "text/html": [
       "<div>\n",
       "<style scoped>\n",
       "    .dataframe tbody tr th:only-of-type {\n",
       "        vertical-align: middle;\n",
       "    }\n",
       "\n",
       "    .dataframe tbody tr th {\n",
       "        vertical-align: top;\n",
       "    }\n",
       "\n",
       "    .dataframe thead th {\n",
       "        text-align: right;\n",
       "    }\n",
       "</style>\n",
       "<table border=\"1\" class=\"dataframe\">\n",
       "  <thead>\n",
       "    <tr style=\"text-align: right;\">\n",
       "      <th></th>\n",
       "      <th>local_gap_compressed_percent_id</th>\n",
       "      <th>scaled_local_query_percent_id</th>\n",
       "      <th>scaled_local_symmetric_percent_id</th>\n",
       "      <th>query_align_len</th>\n",
       "      <th>query_align_cov</th>\n",
       "      <th>subject_align_len</th>\n",
       "      <th>subject_align_cov</th>\n",
       "      <th>bit_score</th>\n",
       "      <th>meso_index</th>\n",
       "      <th>prot_pair_index</th>\n",
       "      <th>...</th>\n",
       "      <th>scaled_local_symmetric_percent_id_16s</th>\n",
       "      <th>query_align_cov_16s</th>\n",
       "      <th>subject_align_cov_16s</th>\n",
       "      <th>bit_score_16s</th>\n",
       "      <th>m_ogt</th>\n",
       "      <th>t_ogt</th>\n",
       "      <th>ogt_difference</th>\n",
       "      <th>m_protein_len</th>\n",
       "      <th>t_protein_len</th>\n",
       "      <th>protein_match</th>\n",
       "    </tr>\n",
       "  </thead>\n",
       "  <tbody>\n",
       "    <tr>\n",
       "      <th>0</th>\n",
       "      <td>0.287582</td>\n",
       "      <td>0.217822</td>\n",
       "      <td>0.215686</td>\n",
       "      <td>160</td>\n",
       "      <td>0.792079</td>\n",
       "      <td>152</td>\n",
       "      <td>0.737864</td>\n",
       "      <td>131</td>\n",
       "      <td>12897</td>\n",
       "      <td>48641291</td>\n",
       "      <td>...</td>\n",
       "      <td>0.926461</td>\n",
       "      <td>0.998040</td>\n",
       "      <td>0.998020</td>\n",
       "      <td>1153.0</td>\n",
       "      <td>27.5</td>\n",
       "      <td>50.0</td>\n",
       "      <td>22.5</td>\n",
       "      <td>206</td>\n",
       "      <td>202</td>\n",
       "      <td>False</td>\n",
       "    </tr>\n",
       "    <tr>\n",
       "      <th>1</th>\n",
       "      <td>0.319635</td>\n",
       "      <td>0.295359</td>\n",
       "      <td>0.297872</td>\n",
       "      <td>218</td>\n",
       "      <td>0.919831</td>\n",
       "      <td>226</td>\n",
       "      <td>0.969957</td>\n",
       "      <td>282</td>\n",
       "      <td>13026</td>\n",
       "      <td>92992745</td>\n",
       "      <td>...</td>\n",
       "      <td>0.902522</td>\n",
       "      <td>1.000000</td>\n",
       "      <td>1.000000</td>\n",
       "      <td>1014.0</td>\n",
       "      <td>25.0</td>\n",
       "      <td>54.0</td>\n",
       "      <td>29.0</td>\n",
       "      <td>233</td>\n",
       "      <td>237</td>\n",
       "      <td>True</td>\n",
       "    </tr>\n",
       "    <tr>\n",
       "      <th>2</th>\n",
       "      <td>0.279621</td>\n",
       "      <td>0.234127</td>\n",
       "      <td>0.218924</td>\n",
       "      <td>211</td>\n",
       "      <td>0.837302</td>\n",
       "      <td>210</td>\n",
       "      <td>0.731707</td>\n",
       "      <td>96</td>\n",
       "      <td>8203</td>\n",
       "      <td>157628663</td>\n",
       "      <td>...</td>\n",
       "      <td>0.923531</td>\n",
       "      <td>1.000000</td>\n",
       "      <td>1.000000</td>\n",
       "      <td>1138.0</td>\n",
       "      <td>28.0</td>\n",
       "      <td>50.0</td>\n",
       "      <td>22.0</td>\n",
       "      <td>287</td>\n",
       "      <td>252</td>\n",
       "      <td>True</td>\n",
       "    </tr>\n",
       "    <tr>\n",
       "      <th>3</th>\n",
       "      <td>0.327273</td>\n",
       "      <td>0.200743</td>\n",
       "      <td>0.214712</td>\n",
       "      <td>166</td>\n",
       "      <td>0.617100</td>\n",
       "      <td>163</td>\n",
       "      <td>0.696581</td>\n",
       "      <td>175</td>\n",
       "      <td>3340</td>\n",
       "      <td>136708305</td>\n",
       "      <td>...</td>\n",
       "      <td>0.909745</td>\n",
       "      <td>0.996734</td>\n",
       "      <td>0.996726</td>\n",
       "      <td>1077.0</td>\n",
       "      <td>28.0</td>\n",
       "      <td>50.0</td>\n",
       "      <td>22.0</td>\n",
       "      <td>234</td>\n",
       "      <td>269</td>\n",
       "      <td>False</td>\n",
       "    </tr>\n",
       "    <tr>\n",
       "      <th>4</th>\n",
       "      <td>0.338710</td>\n",
       "      <td>0.318182</td>\n",
       "      <td>0.287671</td>\n",
       "      <td>60</td>\n",
       "      <td>0.909091</td>\n",
       "      <td>71</td>\n",
       "      <td>0.887500</td>\n",
       "      <td>61</td>\n",
       "      <td>14020</td>\n",
       "      <td>133672542</td>\n",
       "      <td>...</td>\n",
       "      <td>0.887107</td>\n",
       "      <td>0.998084</td>\n",
       "      <td>0.998067</td>\n",
       "      <td>991.0</td>\n",
       "      <td>30.0</td>\n",
       "      <td>50.0</td>\n",
       "      <td>20.0</td>\n",
       "      <td>80</td>\n",
       "      <td>66</td>\n",
       "      <td>True</td>\n",
       "    </tr>\n",
       "  </tbody>\n",
       "</table>\n",
       "<p>5 rows × 25 columns</p>\n",
       "</div>"
      ],
      "text/plain": [
       "   local_gap_compressed_percent_id  scaled_local_query_percent_id  \\\n",
       "0                         0.287582                       0.217822   \n",
       "1                         0.319635                       0.295359   \n",
       "2                         0.279621                       0.234127   \n",
       "3                         0.327273                       0.200743   \n",
       "4                         0.338710                       0.318182   \n",
       "\n",
       "   scaled_local_symmetric_percent_id  query_align_len  query_align_cov  \\\n",
       "0                           0.215686              160         0.792079   \n",
       "1                           0.297872              218         0.919831   \n",
       "2                           0.218924              211         0.837302   \n",
       "3                           0.214712              166         0.617100   \n",
       "4                           0.287671               60         0.909091   \n",
       "\n",
       "   subject_align_len  subject_align_cov  bit_score  meso_index  \\\n",
       "0                152           0.737864        131       12897   \n",
       "1                226           0.969957        282       13026   \n",
       "2                210           0.731707         96        8203   \n",
       "3                163           0.696581        175        3340   \n",
       "4                 71           0.887500         61       14020   \n",
       "\n",
       "   prot_pair_index  ...  scaled_local_symmetric_percent_id_16s  \\\n",
       "0         48641291  ...                               0.926461   \n",
       "1         92992745  ...                               0.902522   \n",
       "2        157628663  ...                               0.923531   \n",
       "3        136708305  ...                               0.909745   \n",
       "4        133672542  ...                               0.887107   \n",
       "\n",
       "   query_align_cov_16s  subject_align_cov_16s  bit_score_16s  m_ogt  t_ogt  \\\n",
       "0             0.998040               0.998020         1153.0   27.5   50.0   \n",
       "1             1.000000               1.000000         1014.0   25.0   54.0   \n",
       "2             1.000000               1.000000         1138.0   28.0   50.0   \n",
       "3             0.996734               0.996726         1077.0   28.0   50.0   \n",
       "4             0.998084               0.998067          991.0   30.0   50.0   \n",
       "\n",
       "   ogt_difference  m_protein_len  t_protein_len  protein_match  \n",
       "0            22.5            206            202          False  \n",
       "1            29.0            233            237           True  \n",
       "2            22.0            287            252           True  \n",
       "3            22.0            234            269          False  \n",
       "4            20.0             80             66           True  \n",
       "\n",
       "[5 rows x 25 columns]"
      ]
     },
     "execution_count": 15,
     "metadata": {},
     "output_type": "execute_result"
    }
   ],
   "source": [
    "df.head()"
   ]
  },
  {
   "cell_type": "markdown",
   "id": "07cc3a80",
   "metadata": {},
   "source": [
    "from pairplot below, it looks like query_align_cov_16s and subject_align_cov_16s dont correlate with anything"
   ]
  },
  {
   "cell_type": "code",
   "execution_count": 16,
   "id": "36d8dadb",
   "metadata": {
    "scrolled": true
   },
   "outputs": [],
   "source": [
    "# sns.pairplot(df.sample(500),height = 4)\n",
    "\n",
    "#i dont see much higher-order correlation, so it's likely we can use linear regression"
   ]
  },
  {
   "cell_type": "code",
   "execution_count": 17,
   "id": "91079edd",
   "metadata": {},
   "outputs": [],
   "source": [
    "df = df.drop(columns = ['query_align_cov_16s', 'subject_align_cov_16s'])"
   ]
  },
  {
   "cell_type": "code",
   "execution_count": 18,
   "id": "7929625e",
   "metadata": {
    "scrolled": false
   },
   "outputs": [
    {
     "data": {
      "text/html": [
       "<div>\n",
       "<style scoped>\n",
       "    .dataframe tbody tr th:only-of-type {\n",
       "        vertical-align: middle;\n",
       "    }\n",
       "\n",
       "    .dataframe tbody tr th {\n",
       "        vertical-align: top;\n",
       "    }\n",
       "\n",
       "    .dataframe thead th {\n",
       "        text-align: right;\n",
       "    }\n",
       "</style>\n",
       "<table border=\"1\" class=\"dataframe\">\n",
       "  <thead>\n",
       "    <tr style=\"text-align: right;\">\n",
       "      <th></th>\n",
       "      <th>local_gap_compressed_percent_id</th>\n",
       "      <th>scaled_local_query_percent_id</th>\n",
       "      <th>scaled_local_symmetric_percent_id</th>\n",
       "      <th>query_align_len</th>\n",
       "      <th>query_align_cov</th>\n",
       "      <th>subject_align_len</th>\n",
       "      <th>subject_align_cov</th>\n",
       "      <th>bit_score</th>\n",
       "      <th>meso_index</th>\n",
       "      <th>prot_pair_index</th>\n",
       "      <th>...</th>\n",
       "      <th>taxa_pair_index</th>\n",
       "      <th>local_gap_compressed_percent_id_16s</th>\n",
       "      <th>scaled_local_query_percent_id_16s</th>\n",
       "      <th>scaled_local_symmetric_percent_id_16s</th>\n",
       "      <th>bit_score_16s</th>\n",
       "      <th>m_ogt</th>\n",
       "      <th>t_ogt</th>\n",
       "      <th>ogt_difference</th>\n",
       "      <th>m_protein_len</th>\n",
       "      <th>t_protein_len</th>\n",
       "    </tr>\n",
       "  </thead>\n",
       "  <tbody>\n",
       "    <tr>\n",
       "      <th>count</th>\n",
       "      <td>50000.000000</td>\n",
       "      <td>50000.000000</td>\n",
       "      <td>50000.000000</td>\n",
       "      <td>50000.000000</td>\n",
       "      <td>50000.000000</td>\n",
       "      <td>50000.000000</td>\n",
       "      <td>50000.000000</td>\n",
       "      <td>50000.00000</td>\n",
       "      <td>50000.000000</td>\n",
       "      <td>5.000000e+04</td>\n",
       "      <td>...</td>\n",
       "      <td>50000.000000</td>\n",
       "      <td>50000.000000</td>\n",
       "      <td>50000.000000</td>\n",
       "      <td>50000.000000</td>\n",
       "      <td>50000.000000</td>\n",
       "      <td>50000.000000</td>\n",
       "      <td>50000.000000</td>\n",
       "      <td>50000.000000</td>\n",
       "      <td>50000.000000</td>\n",
       "      <td>50000.000000</td>\n",
       "    </tr>\n",
       "    <tr>\n",
       "      <th>mean</th>\n",
       "      <td>0.349026</td>\n",
       "      <td>0.276478</td>\n",
       "      <td>0.270792</td>\n",
       "      <td>206.011660</td>\n",
       "      <td>0.791507</td>\n",
       "      <td>205.414920</td>\n",
       "      <td>0.770875</td>\n",
       "      <td>230.63206</td>\n",
       "      <td>8098.858120</td>\n",
       "      <td>9.105934e+07</td>\n",
       "      <td>...</td>\n",
       "      <td>362827.905140</td>\n",
       "      <td>0.906828</td>\n",
       "      <td>0.903266</td>\n",
       "      <td>0.904959</td>\n",
       "      <td>1061.404480</td>\n",
       "      <td>27.348365</td>\n",
       "      <td>51.505410</td>\n",
       "      <td>24.157045</td>\n",
       "      <td>269.985200</td>\n",
       "      <td>261.367700</td>\n",
       "    </tr>\n",
       "    <tr>\n",
       "      <th>std</th>\n",
       "      <td>0.096608</td>\n",
       "      <td>0.114404</td>\n",
       "      <td>0.116039</td>\n",
       "      <td>64.260901</td>\n",
       "      <td>0.144893</td>\n",
       "      <td>64.430548</td>\n",
       "      <td>0.179955</td>\n",
       "      <td>186.44859</td>\n",
       "      <td>4608.982941</td>\n",
       "      <td>5.233883e+07</td>\n",
       "      <td>...</td>\n",
       "      <td>229264.926253</td>\n",
       "      <td>0.015240</td>\n",
       "      <td>0.015626</td>\n",
       "      <td>0.015300</td>\n",
       "      <td>75.659661</td>\n",
       "      <td>3.737201</td>\n",
       "      <td>3.816972</td>\n",
       "      <td>3.586797</td>\n",
       "      <td>65.935753</td>\n",
       "      <td>69.675548</td>\n",
       "    </tr>\n",
       "    <tr>\n",
       "      <th>min</th>\n",
       "      <td>0.164103</td>\n",
       "      <td>0.081301</td>\n",
       "      <td>0.045977</td>\n",
       "      <td>19.000000</td>\n",
       "      <td>0.284553</td>\n",
       "      <td>19.000000</td>\n",
       "      <td>0.082019</td>\n",
       "      <td>35.00000</td>\n",
       "      <td>5.000000</td>\n",
       "      <td>1.219000e+03</td>\n",
       "      <td>...</td>\n",
       "      <td>4885.000000</td>\n",
       "      <td>0.876590</td>\n",
       "      <td>0.836055</td>\n",
       "      <td>0.880026</td>\n",
       "      <td>891.000000</td>\n",
       "      <td>7.000000</td>\n",
       "      <td>41.000000</td>\n",
       "      <td>20.000000</td>\n",
       "      <td>30.000000</td>\n",
       "      <td>27.000000</td>\n",
       "    </tr>\n",
       "    <tr>\n",
       "      <th>25%</th>\n",
       "      <td>0.293750</td>\n",
       "      <td>0.204545</td>\n",
       "      <td>0.202020</td>\n",
       "      <td>172.000000</td>\n",
       "      <td>0.673288</td>\n",
       "      <td>172.000000</td>\n",
       "      <td>0.656854</td>\n",
       "      <td>118.00000</td>\n",
       "      <td>4121.000000</td>\n",
       "      <td>4.645832e+07</td>\n",
       "      <td>...</td>\n",
       "      <td>173976.750000</td>\n",
       "      <td>0.895995</td>\n",
       "      <td>0.893020</td>\n",
       "      <td>0.893531</td>\n",
       "      <td>1009.000000</td>\n",
       "      <td>27.000000</td>\n",
       "      <td>50.000000</td>\n",
       "      <td>22.000000</td>\n",
       "      <td>233.000000</td>\n",
       "      <td>226.000000</td>\n",
       "    </tr>\n",
       "    <tr>\n",
       "      <th>50%</th>\n",
       "      <td>0.325000</td>\n",
       "      <td>0.250000</td>\n",
       "      <td>0.244648</td>\n",
       "      <td>210.000000</td>\n",
       "      <td>0.811321</td>\n",
       "      <td>209.000000</td>\n",
       "      <td>0.806584</td>\n",
       "      <td>186.00000</td>\n",
       "      <td>8046.000000</td>\n",
       "      <td>9.160212e+07</td>\n",
       "      <td>...</td>\n",
       "      <td>312362.000000</td>\n",
       "      <td>0.905983</td>\n",
       "      <td>0.902326</td>\n",
       "      <td>0.903543</td>\n",
       "      <td>1056.000000</td>\n",
       "      <td>28.000000</td>\n",
       "      <td>52.500000</td>\n",
       "      <td>24.500000</td>\n",
       "      <td>267.000000</td>\n",
       "      <td>260.000000</td>\n",
       "    </tr>\n",
       "    <tr>\n",
       "      <th>75%</th>\n",
       "      <td>0.367257</td>\n",
       "      <td>0.308300</td>\n",
       "      <td>0.301639</td>\n",
       "      <td>240.000000</td>\n",
       "      <td>0.923077</td>\n",
       "      <td>240.000000</td>\n",
       "      <td>0.923077</td>\n",
       "      <td>267.00000</td>\n",
       "      <td>12103.000000</td>\n",
       "      <td>1.360713e+08</td>\n",
       "      <td>...</td>\n",
       "      <td>617814.000000</td>\n",
       "      <td>0.916172</td>\n",
       "      <td>0.912576</td>\n",
       "      <td>0.914698</td>\n",
       "      <td>1108.000000</td>\n",
       "      <td>29.000000</td>\n",
       "      <td>52.500000</td>\n",
       "      <td>24.500000</td>\n",
       "      <td>317.000000</td>\n",
       "      <td>311.000000</td>\n",
       "    </tr>\n",
       "    <tr>\n",
       "      <th>max</th>\n",
       "      <td>0.985075</td>\n",
       "      <td>0.985075</td>\n",
       "      <td>0.985075</td>\n",
       "      <td>400.000000</td>\n",
       "      <td>1.000000</td>\n",
       "      <td>399.000000</td>\n",
       "      <td>1.000000</td>\n",
       "      <td>1788.00000</td>\n",
       "      <td>16564.000000</td>\n",
       "      <td>1.814866e+08</td>\n",
       "      <td>...</td>\n",
       "      <td>744518.000000</td>\n",
       "      <td>0.999351</td>\n",
       "      <td>0.993544</td>\n",
       "      <td>0.996439</td>\n",
       "      <td>1679.000000</td>\n",
       "      <td>40.000000</td>\n",
       "      <td>78.000000</td>\n",
       "      <td>56.000000</td>\n",
       "      <td>400.000000</td>\n",
       "      <td>400.000000</td>\n",
       "    </tr>\n",
       "  </tbody>\n",
       "</table>\n",
       "<p>8 rows × 22 columns</p>\n",
       "</div>"
      ],
      "text/plain": [
       "       local_gap_compressed_percent_id  scaled_local_query_percent_id  \\\n",
       "count                     50000.000000                   50000.000000   \n",
       "mean                          0.349026                       0.276478   \n",
       "std                           0.096608                       0.114404   \n",
       "min                           0.164103                       0.081301   \n",
       "25%                           0.293750                       0.204545   \n",
       "50%                           0.325000                       0.250000   \n",
       "75%                           0.367257                       0.308300   \n",
       "max                           0.985075                       0.985075   \n",
       "\n",
       "       scaled_local_symmetric_percent_id  query_align_len  query_align_cov  \\\n",
       "count                       50000.000000     50000.000000     50000.000000   \n",
       "mean                            0.270792       206.011660         0.791507   \n",
       "std                             0.116039        64.260901         0.144893   \n",
       "min                             0.045977        19.000000         0.284553   \n",
       "25%                             0.202020       172.000000         0.673288   \n",
       "50%                             0.244648       210.000000         0.811321   \n",
       "75%                             0.301639       240.000000         0.923077   \n",
       "max                             0.985075       400.000000         1.000000   \n",
       "\n",
       "       subject_align_len  subject_align_cov    bit_score    meso_index  \\\n",
       "count       50000.000000       50000.000000  50000.00000  50000.000000   \n",
       "mean          205.414920           0.770875    230.63206   8098.858120   \n",
       "std            64.430548           0.179955    186.44859   4608.982941   \n",
       "min            19.000000           0.082019     35.00000      5.000000   \n",
       "25%           172.000000           0.656854    118.00000   4121.000000   \n",
       "50%           209.000000           0.806584    186.00000   8046.000000   \n",
       "75%           240.000000           0.923077    267.00000  12103.000000   \n",
       "max           399.000000           1.000000   1788.00000  16564.000000   \n",
       "\n",
       "       prot_pair_index  ...  taxa_pair_index  \\\n",
       "count     5.000000e+04  ...     50000.000000   \n",
       "mean      9.105934e+07  ...    362827.905140   \n",
       "std       5.233883e+07  ...    229264.926253   \n",
       "min       1.219000e+03  ...      4885.000000   \n",
       "25%       4.645832e+07  ...    173976.750000   \n",
       "50%       9.160212e+07  ...    312362.000000   \n",
       "75%       1.360713e+08  ...    617814.000000   \n",
       "max       1.814866e+08  ...    744518.000000   \n",
       "\n",
       "       local_gap_compressed_percent_id_16s  scaled_local_query_percent_id_16s  \\\n",
       "count                         50000.000000                       50000.000000   \n",
       "mean                              0.906828                           0.903266   \n",
       "std                               0.015240                           0.015626   \n",
       "min                               0.876590                           0.836055   \n",
       "25%                               0.895995                           0.893020   \n",
       "50%                               0.905983                           0.902326   \n",
       "75%                               0.916172                           0.912576   \n",
       "max                               0.999351                           0.993544   \n",
       "\n",
       "       scaled_local_symmetric_percent_id_16s  bit_score_16s         m_ogt  \\\n",
       "count                           50000.000000   50000.000000  50000.000000   \n",
       "mean                                0.904959    1061.404480     27.348365   \n",
       "std                                 0.015300      75.659661      3.737201   \n",
       "min                                 0.880026     891.000000      7.000000   \n",
       "25%                                 0.893531    1009.000000     27.000000   \n",
       "50%                                 0.903543    1056.000000     28.000000   \n",
       "75%                                 0.914698    1108.000000     29.000000   \n",
       "max                                 0.996439    1679.000000     40.000000   \n",
       "\n",
       "              t_ogt  ogt_difference  m_protein_len  t_protein_len  \n",
       "count  50000.000000    50000.000000   50000.000000   50000.000000  \n",
       "mean      51.505410       24.157045     269.985200     261.367700  \n",
       "std        3.816972        3.586797      65.935753      69.675548  \n",
       "min       41.000000       20.000000      30.000000      27.000000  \n",
       "25%       50.000000       22.000000     233.000000     226.000000  \n",
       "50%       52.500000       24.500000     267.000000     260.000000  \n",
       "75%       52.500000       24.500000     317.000000     311.000000  \n",
       "max       78.000000       56.000000     400.000000     400.000000  \n",
       "\n",
       "[8 rows x 22 columns]"
      ]
     },
     "execution_count": 18,
     "metadata": {},
     "output_type": "execute_result"
    }
   ],
   "source": [
    "df.describe()"
   ]
  },
  {
   "cell_type": "code",
   "execution_count": 19,
   "id": "4bf493d3",
   "metadata": {
    "scrolled": true
   },
   "outputs": [
    {
     "data": {
      "text/html": [
       "<div>\n",
       "<style scoped>\n",
       "    .dataframe tbody tr th:only-of-type {\n",
       "        vertical-align: middle;\n",
       "    }\n",
       "\n",
       "    .dataframe tbody tr th {\n",
       "        vertical-align: top;\n",
       "    }\n",
       "\n",
       "    .dataframe thead th {\n",
       "        text-align: right;\n",
       "    }\n",
       "</style>\n",
       "<table border=\"1\" class=\"dataframe\">\n",
       "  <thead>\n",
       "    <tr style=\"text-align: right;\">\n",
       "      <th></th>\n",
       "      <th>local_gap_compressed_percent_id</th>\n",
       "      <th>scaled_local_query_percent_id</th>\n",
       "      <th>scaled_local_symmetric_percent_id</th>\n",
       "      <th>query_align_len</th>\n",
       "      <th>query_align_cov</th>\n",
       "      <th>subject_align_len</th>\n",
       "      <th>subject_align_cov</th>\n",
       "      <th>bit_score</th>\n",
       "      <th>meso_index</th>\n",
       "      <th>prot_pair_index</th>\n",
       "      <th>...</th>\n",
       "      <th>local_gap_compressed_percent_id_16s</th>\n",
       "      <th>scaled_local_query_percent_id_16s</th>\n",
       "      <th>scaled_local_symmetric_percent_id_16s</th>\n",
       "      <th>bit_score_16s</th>\n",
       "      <th>m_ogt</th>\n",
       "      <th>t_ogt</th>\n",
       "      <th>ogt_difference</th>\n",
       "      <th>m_protein_len</th>\n",
       "      <th>t_protein_len</th>\n",
       "      <th>protein_match</th>\n",
       "    </tr>\n",
       "  </thead>\n",
       "  <tbody>\n",
       "    <tr>\n",
       "      <th>0</th>\n",
       "      <td>0.287582</td>\n",
       "      <td>0.217822</td>\n",
       "      <td>0.215686</td>\n",
       "      <td>160</td>\n",
       "      <td>0.792079</td>\n",
       "      <td>152</td>\n",
       "      <td>0.737864</td>\n",
       "      <td>131</td>\n",
       "      <td>12897</td>\n",
       "      <td>48641291</td>\n",
       "      <td>...</td>\n",
       "      <td>0.924640</td>\n",
       "      <td>0.921620</td>\n",
       "      <td>0.926461</td>\n",
       "      <td>1153.0</td>\n",
       "      <td>27.5</td>\n",
       "      <td>50.0</td>\n",
       "      <td>22.5</td>\n",
       "      <td>206</td>\n",
       "      <td>202</td>\n",
       "      <td>False</td>\n",
       "    </tr>\n",
       "    <tr>\n",
       "      <th>1</th>\n",
       "      <td>0.319635</td>\n",
       "      <td>0.295359</td>\n",
       "      <td>0.297872</td>\n",
       "      <td>218</td>\n",
       "      <td>0.919831</td>\n",
       "      <td>226</td>\n",
       "      <td>0.969957</td>\n",
       "      <td>282</td>\n",
       "      <td>13026</td>\n",
       "      <td>92992745</td>\n",
       "      <td>...</td>\n",
       "      <td>0.901907</td>\n",
       "      <td>0.900068</td>\n",
       "      <td>0.902522</td>\n",
       "      <td>1014.0</td>\n",
       "      <td>25.0</td>\n",
       "      <td>54.0</td>\n",
       "      <td>29.0</td>\n",
       "      <td>233</td>\n",
       "      <td>237</td>\n",
       "      <td>True</td>\n",
       "    </tr>\n",
       "    <tr>\n",
       "      <th>2</th>\n",
       "      <td>0.279621</td>\n",
       "      <td>0.234127</td>\n",
       "      <td>0.218924</td>\n",
       "      <td>211</td>\n",
       "      <td>0.837302</td>\n",
       "      <td>210</td>\n",
       "      <td>0.731707</td>\n",
       "      <td>96</td>\n",
       "      <td>8203</td>\n",
       "      <td>157628663</td>\n",
       "      <td>...</td>\n",
       "      <td>0.920812</td>\n",
       "      <td>0.919007</td>\n",
       "      <td>0.923531</td>\n",
       "      <td>1138.0</td>\n",
       "      <td>28.0</td>\n",
       "      <td>50.0</td>\n",
       "      <td>22.0</td>\n",
       "      <td>287</td>\n",
       "      <td>252</td>\n",
       "      <td>True</td>\n",
       "    </tr>\n",
       "    <tr>\n",
       "      <th>3</th>\n",
       "      <td>0.327273</td>\n",
       "      <td>0.200743</td>\n",
       "      <td>0.214712</td>\n",
       "      <td>166</td>\n",
       "      <td>0.617100</td>\n",
       "      <td>163</td>\n",
       "      <td>0.696581</td>\n",
       "      <td>175</td>\n",
       "      <td>3340</td>\n",
       "      <td>136708305</td>\n",
       "      <td>...</td>\n",
       "      <td>0.912730</td>\n",
       "      <td>0.908556</td>\n",
       "      <td>0.909745</td>\n",
       "      <td>1077.0</td>\n",
       "      <td>28.0</td>\n",
       "      <td>50.0</td>\n",
       "      <td>22.0</td>\n",
       "      <td>234</td>\n",
       "      <td>269</td>\n",
       "      <td>False</td>\n",
       "    </tr>\n",
       "    <tr>\n",
       "      <th>4</th>\n",
       "      <td>0.338710</td>\n",
       "      <td>0.318182</td>\n",
       "      <td>0.287671</td>\n",
       "      <td>60</td>\n",
       "      <td>0.909091</td>\n",
       "      <td>71</td>\n",
       "      <td>0.887500</td>\n",
       "      <td>61</td>\n",
       "      <td>14020</td>\n",
       "      <td>133672542</td>\n",
       "      <td>...</td>\n",
       "      <td>0.889389</td>\n",
       "      <td>0.883142</td>\n",
       "      <td>0.887107</td>\n",
       "      <td>991.0</td>\n",
       "      <td>30.0</td>\n",
       "      <td>50.0</td>\n",
       "      <td>20.0</td>\n",
       "      <td>80</td>\n",
       "      <td>66</td>\n",
       "      <td>True</td>\n",
       "    </tr>\n",
       "  </tbody>\n",
       "</table>\n",
       "<p>5 rows × 23 columns</p>\n",
       "</div>"
      ],
      "text/plain": [
       "   local_gap_compressed_percent_id  scaled_local_query_percent_id  \\\n",
       "0                         0.287582                       0.217822   \n",
       "1                         0.319635                       0.295359   \n",
       "2                         0.279621                       0.234127   \n",
       "3                         0.327273                       0.200743   \n",
       "4                         0.338710                       0.318182   \n",
       "\n",
       "   scaled_local_symmetric_percent_id  query_align_len  query_align_cov  \\\n",
       "0                           0.215686              160         0.792079   \n",
       "1                           0.297872              218         0.919831   \n",
       "2                           0.218924              211         0.837302   \n",
       "3                           0.214712              166         0.617100   \n",
       "4                           0.287671               60         0.909091   \n",
       "\n",
       "   subject_align_len  subject_align_cov  bit_score  meso_index  \\\n",
       "0                152           0.737864        131       12897   \n",
       "1                226           0.969957        282       13026   \n",
       "2                210           0.731707         96        8203   \n",
       "3                163           0.696581        175        3340   \n",
       "4                 71           0.887500         61       14020   \n",
       "\n",
       "   prot_pair_index  ...  local_gap_compressed_percent_id_16s  \\\n",
       "0         48641291  ...                             0.924640   \n",
       "1         92992745  ...                             0.901907   \n",
       "2        157628663  ...                             0.920812   \n",
       "3        136708305  ...                             0.912730   \n",
       "4        133672542  ...                             0.889389   \n",
       "\n",
       "   scaled_local_query_percent_id_16s  scaled_local_symmetric_percent_id_16s  \\\n",
       "0                           0.921620                               0.926461   \n",
       "1                           0.900068                               0.902522   \n",
       "2                           0.919007                               0.923531   \n",
       "3                           0.908556                               0.909745   \n",
       "4                           0.883142                               0.887107   \n",
       "\n",
       "   bit_score_16s  m_ogt  t_ogt  ogt_difference  m_protein_len  t_protein_len  \\\n",
       "0         1153.0   27.5   50.0            22.5            206            202   \n",
       "1         1014.0   25.0   54.0            29.0            233            237   \n",
       "2         1138.0   28.0   50.0            22.0            287            252   \n",
       "3         1077.0   28.0   50.0            22.0            234            269   \n",
       "4          991.0   30.0   50.0            20.0             80             66   \n",
       "\n",
       "   protein_match  \n",
       "0          False  \n",
       "1           True  \n",
       "2           True  \n",
       "3          False  \n",
       "4           True  \n",
       "\n",
       "[5 rows x 23 columns]"
      ]
     },
     "execution_count": 19,
     "metadata": {},
     "output_type": "execute_result"
    }
   ],
   "source": [
    "df.head()"
   ]
  },
  {
   "cell_type": "code",
   "execution_count": 20,
   "id": "88847cb0",
   "metadata": {
    "scrolled": true
   },
   "outputs": [
    {
     "name": "stderr",
     "output_type": "stream",
     "text": [
      "<__array_function__ internals>:180: RuntimeWarning: Converting input from bool to <class 'numpy.uint8'> for compatibility.\n"
     ]
    },
    {
     "data": {
      "text/plain": [
       "Text(0, 0.5, 'Count')"
      ]
     },
     "execution_count": 20,
     "metadata": {},
     "output_type": "execute_result"
    },
    {
     "data": {
      "image/png": "[encoded data removed]",
      "text/plain": [
       "<Figure size 640x480 with 1 Axes>"
      ]
     },
     "metadata": {},
     "output_type": "display_data"
    }
   ],
   "source": [
    "#plot empirical distribution of scaled_local_query_percent_id\n",
    "\n",
    "target = df['protein_match']\n",
    "#create histplot\n",
    "fig, ax = plt.subplots()\n",
    "\n",
    "sns.histplot(data = df, x = target)\n",
    "\n",
    "ax.set_title('Sample Histogram', fontsize=16)\n",
    "ax.set_xlabel('Class', fontsize=14)\n",
    "ax.set_ylabel('Count', fontsize=14)"
   ]
  },
  {
   "cell_type": "code",
   "execution_count": 21,
   "id": "1ae01ea9",
   "metadata": {
    "scrolled": true
   },
   "outputs": [],
   "source": [
    "# print('The mean is: {} and the standard deviation is: {}.'.format(target.mean(),target.std())) \n",
    "\n",
    "# print('The minimum bit score is: {} and the maximum bit score is: {}.'.format(target.min(),target.max()))"
   ]
  },
  {
   "cell_type": "markdown",
   "id": "90871d01",
   "metadata": {},
   "source": [
    "1) Split dev and test data:"
   ]
  },
  {
   "cell_type": "code",
   "execution_count": 22,
   "id": "6519dcaf",
   "metadata": {},
   "outputs": [],
   "source": [
    "df = df.drop(columns = ['meso_index', 'meso_protein_int_index', 'local_gap_compressed_percent_id_16s', \n",
    "                        'scaled_local_query_percent_id_16s', 'scaled_local_symmetric_percent_id_16s',\n",
    "                       'bit_score_16s', 'm_ogt', 't_ogt', 'taxa_pair_index', 'thermo_protein_int_index'\n",
    "                       , 'prot_pair_index', 'ogt_difference'])"
   ]
  },
  {
   "cell_type": "code",
   "execution_count": 23,
   "id": "af9f23cf",
   "metadata": {
    "scrolled": true
   },
   "outputs": [
    {
     "name": "stdout",
     "output_type": "stream",
     "text": [
      "(42500, 11)\n",
      "(7500, 11)\n",
      "(36125, 11)\n",
      "(6375, 11)\n"
     ]
    }
   ],
   "source": [
    "#choosing 80/20 split instead of 85/15 because of volume of data\n",
    "\n",
    "dev, test = sklearn.model_selection.train_test_split(df, test_size=0.15, random_state=1)\n",
    "\n",
    "#might want to name the above split train/val, since we don't really have \"test data\" yet\n",
    "train, val = sklearn.model_selection.train_test_split(dev, test_size=0.15, random_state=1)\n",
    "\n",
    "print(dev.shape)\n",
    "print(test.shape)\n",
    "print(train.shape)\n",
    "print(val.shape)"
   ]
  },
  {
   "cell_type": "code",
   "execution_count": 24,
   "id": "8470550d",
   "metadata": {
    "scrolled": false
   },
   "outputs": [],
   "source": [
    "target = 'protein_match'\n",
    "input_features = [columns for columns in df]\n",
    "input_features.remove(target)"
   ]
  },
  {
   "cell_type": "code",
   "execution_count": 25,
   "id": "c62edd28",
   "metadata": {},
   "outputs": [
    {
     "name": "stdout",
     "output_type": "stream",
     "text": [
      "['local_gap_compressed_percent_id', 'scaled_local_query_percent_id', 'scaled_local_symmetric_percent_id', 'query_align_len', 'query_align_cov', 'subject_align_len', 'subject_align_cov', 'bit_score', 'm_protein_len', 't_protein_len']\n",
      "protein_match\n"
     ]
    }
   ],
   "source": [
    "print(input_features)\n",
    "print(target)"
   ]
  },
  {
   "cell_type": "code",
   "execution_count": 26,
   "id": "1ab62bff",
   "metadata": {
    "scrolled": true
   },
   "outputs": [
    {
     "name": "stdout",
     "output_type": "stream",
     "text": [
      "(42500, 10) (7500, 10) (42500, 1) (7500, 1)\n"
     ]
    }
   ],
   "source": [
    "# predicting values \n",
    "\n",
    "dev_X = dev[input_features].values\n",
    "test_X = test[input_features].values\n",
    "\n",
    "dev_y = dev[target].values.reshape(-1,1)\n",
    "test_y = test[target].values.reshape(-1,1)  \n",
    "\n",
    "print(dev_X.shape, test_X.shape, dev_y.shape, test_y.shape)"
   ]
  },
  {
   "cell_type": "code",
   "execution_count": 27,
   "id": "f9532bc9",
   "metadata": {},
   "outputs": [],
   "source": [
    "train_X = train[input_features].values\n",
    "val_X = val[input_features].values\n",
    "\n",
    "train_y = train[target].values.reshape(-1,1)\n",
    "val_y = val[target].values.reshape(-1,1) "
   ]
  },
  {
   "cell_type": "markdown",
   "id": "c374f2d7",
   "metadata": {},
   "source": [
    "2) Scale the data"
   ]
  },
  {
   "cell_type": "code",
   "execution_count": 28,
   "id": "2b48b2e5",
   "metadata": {
    "scrolled": false
   },
   "outputs": [],
   "source": [
    "scaler = sklearn.preprocessing.StandardScaler()\n",
    "dev_X = scaler.fit_transform(dev_X)\n",
    "test_X = scaler.fit_transform(test_X)\n",
    "train_X = scaler.fit_transform(train_X)\n",
    "val_X = scaler.fit_transform(val_X)"
   ]
  },
  {
   "cell_type": "markdown",
   "id": "03d6ed6d",
   "metadata": {},
   "source": [
    "3) Regularize the data -L1 or L2? Read online"
   ]
  },
  {
   "cell_type": "markdown",
   "id": "c3022371",
   "metadata": {},
   "source": [
    "4. Train the model"
   ]
  },
  {
   "cell_type": "code",
   "execution_count": 103,
   "id": "be4e09b0",
   "metadata": {},
   "outputs": [
    {
     "data": {
      "text/html": [
       "<style>#sk-container-id-20 {color: black;background-color: white;}#sk-container-id-20 pre{padding: 0;}#sk-container-id-20 div.sk-toggleable {background-color: white;}#sk-container-id-20 label.sk-toggleable__label {cursor: pointer;display: block;width: 100%;margin-bottom: 0;padding: 0.3em;box-sizing: border-box;text-align: center;}#sk-container-id-20 label.sk-toggleable__label-arrow:before {content: \"▸\";float: left;margin-right: 0.25em;color: #696969;}#sk-container-id-20 label.sk-toggleable__label-arrow:hover:before {color: black;}#sk-container-id-20 div.sk-estimator:hover label.sk-toggleable__label-arrow:before {color: black;}#sk-container-id-20 div.sk-toggleable__content {max-height: 0;max-width: 0;overflow: hidden;text-align: left;background-color: #f0f8ff;}#sk-container-id-20 div.sk-toggleable__content pre {margin: 0.2em;color: black;border-radius: 0.25em;background-color: #f0f8ff;}#sk-container-id-20 input.sk-toggleable__control:checked~div.sk-toggleable__content {max-height: 200px;max-width: 100%;overflow: auto;}#sk-container-id-20 input.sk-toggleable__control:checked~label.sk-toggleable__label-arrow:before {content: \"▾\";}#sk-container-id-20 div.sk-estimator input.sk-toggleable__control:checked~label.sk-toggleable__label {background-color: #d4ebff;}#sk-container-id-20 div.sk-label input.sk-toggleable__control:checked~label.sk-toggleable__label {background-color: #d4ebff;}#sk-container-id-20 input.sk-hidden--visually {border: 0;clip: rect(1px 1px 1px 1px);clip: rect(1px, 1px, 1px, 1px);height: 1px;margin: -1px;overflow: hidden;padding: 0;position: absolute;width: 1px;}#sk-container-id-20 div.sk-estimator {font-family: monospace;background-color: #f0f8ff;border: 1px dotted black;border-radius: 0.25em;box-sizing: border-box;margin-bottom: 0.5em;}#sk-container-id-20 div.sk-estimator:hover {background-color: #d4ebff;}#sk-container-id-20 div.sk-parallel-item::after {content: \"\";width: 100%;border-bottom: 1px solid gray;flex-grow: 1;}#sk-container-id-20 div.sk-label:hover label.sk-toggleable__label {background-color: #d4ebff;}#sk-container-id-20 div.sk-serial::before {content: \"\";position: absolute;border-left: 1px solid gray;box-sizing: border-box;top: 0;bottom: 0;left: 50%;z-index: 0;}#sk-container-id-20 div.sk-serial {display: flex;flex-direction: column;align-items: center;background-color: white;padding-right: 0.2em;padding-left: 0.2em;position: relative;}#sk-container-id-20 div.sk-item {position: relative;z-index: 1;}#sk-container-id-20 div.sk-parallel {display: flex;align-items: stretch;justify-content: center;background-color: white;position: relative;}#sk-container-id-20 div.sk-item::before, #sk-container-id-20 div.sk-parallel-item::before {content: \"\";position: absolute;border-left: 1px solid gray;box-sizing: border-box;top: 0;bottom: 0;left: 50%;z-index: -1;}#sk-container-id-20 div.sk-parallel-item {display: flex;flex-direction: column;z-index: 1;position: relative;background-color: white;}#sk-container-id-20 div.sk-parallel-item:first-child::after {align-self: flex-end;width: 50%;}#sk-container-id-20 div.sk-parallel-item:last-child::after {align-self: flex-start;width: 50%;}#sk-container-id-20 div.sk-parallel-item:only-child::after {width: 0;}#sk-container-id-20 div.sk-dashed-wrapped {border: 1px dashed gray;margin: 0 0.4em 0.5em 0.4em;box-sizing: border-box;padding-bottom: 0.4em;background-color: white;}#sk-container-id-20 div.sk-label label {font-family: monospace;font-weight: bold;display: inline-block;line-height: 1.2em;}#sk-container-id-20 div.sk-label-container {text-align: center;}#sk-container-id-20 div.sk-container {/* jupyter's `normalize.less` sets `[hidden] { display: none; }` but bootstrap.min.css set `[hidden] { display: none !important; }` so we also need the `!important` here to be able to override the default hidden behavior on the sphinx rendered scikit-learn.org. See: https://github.com/scikit-learn/scikit-learn/issues/21755 */display: inline-block !important;position: relative;}#sk-container-id-20 div.sk-text-repr-fallback {display: none;}</style><div id=\"sk-container-id-20\" class=\"sk-top-container\"><div class=\"sk-text-repr-fallback\"><pre>RandomForestClassifier(max_features=0.5, max_samples=0.5, min_samples_split=10,\n",
       "                       min_weight_fraction_leaf=0.000215, n_estimators=150)</pre><b>In a Jupyter environment, please rerun this cell to show the HTML representation or trust the notebook. <br />On GitHub, the HTML representation is unable to render, please try loading this page with nbviewer.org.</b></div><div class=\"sk-container\" hidden><div class=\"sk-item\"><div class=\"sk-estimator sk-toggleable\"><input class=\"sk-toggleable__control sk-hidden--visually\" id=\"sk-estimator-id-34\" type=\"checkbox\" checked><label for=\"sk-estimator-id-34\" class=\"sk-toggleable__label sk-toggleable__label-arrow\">RandomForestClassifier</label><div class=\"sk-toggleable__content\"><pre>RandomForestClassifier(max_features=0.5, max_samples=0.5, min_samples_split=10,\n",
       "                       min_weight_fraction_leaf=0.000215, n_estimators=150)</pre></div></div></div></div></div>"
      ],
      "text/plain": [
       "RandomForestClassifier(max_features=0.5, max_samples=0.5, min_samples_split=10,\n",
       "                       min_weight_fraction_leaf=0.000215, n_estimators=150)"
      ]
     },
     "execution_count": 103,
     "metadata": {},
     "output_type": "execute_result"
    }
   ],
   "source": [
    "#Random Forest\n",
    "\n",
    "model = sklearn.ensemble.RandomForestClassifier(n_estimators=150, max_depth=None, max_samples=0.5,\n",
    "                                                max_features=0.5, min_weight_fraction_leaf=0.000215,\n",
    "                                               min_samples_split=10)\n",
    "model.fit(dev_X, dev_y.ravel())"
   ]
  },
  {
   "cell_type": "markdown",
   "id": "69ebf269",
   "metadata": {},
   "source": [
    "5. Test the model, report relevant statistics"
   ]
  },
  {
   "cell_type": "code",
   "execution_count": 104,
   "id": "c73327e9",
   "metadata": {
    "scrolled": false
   },
   "outputs": [
    {
     "name": "stdout",
     "output_type": "stream",
     "text": [
      "Model score is: 0.6785333333333333\n",
      "[False False False ...  True False False]\n"
     ]
    }
   ],
   "source": [
    "score = model.score(test_X, test_y)\n",
    "print('Model score is: {}'.format(score))\n",
    "\n",
    "preds = model.predict(test_X)\n",
    "print(preds)"
   ]
  },
  {
   "cell_type": "code",
   "execution_count": 106,
   "id": "39991fa7",
   "metadata": {},
   "outputs": [],
   "source": [
    "#try bagging\n",
    "\n",
    "from sklearn.ensemble import BaggingClassifier\n",
    "bagging = BaggingClassifier(sklearn.ensemble.RandomForestClassifier(n_estimators=150, max_depth=None, min_weight_fraction_leaf=0.000215),\n",
    "                             max_samples=0.5, max_features=0.5)"
   ]
  },
  {
   "cell_type": "code",
   "execution_count": 107,
   "id": "402d94b4",
   "metadata": {
    "scrolled": true
   },
   "outputs": [
    {
     "data": {
      "text/html": [
       "<style>#sk-container-id-21 {color: black;background-color: white;}#sk-container-id-21 pre{padding: 0;}#sk-container-id-21 div.sk-toggleable {background-color: white;}#sk-container-id-21 label.sk-toggleable__label {cursor: pointer;display: block;width: 100%;margin-bottom: 0;padding: 0.3em;box-sizing: border-box;text-align: center;}#sk-container-id-21 label.sk-toggleable__label-arrow:before {content: \"▸\";float: left;margin-right: 0.25em;color: #696969;}#sk-container-id-21 label.sk-toggleable__label-arrow:hover:before {color: black;}#sk-container-id-21 div.sk-estimator:hover label.sk-toggleable__label-arrow:before {color: black;}#sk-container-id-21 div.sk-toggleable__content {max-height: 0;max-width: 0;overflow: hidden;text-align: left;background-color: #f0f8ff;}#sk-container-id-21 div.sk-toggleable__content pre {margin: 0.2em;color: black;border-radius: 0.25em;background-color: #f0f8ff;}#sk-container-id-21 input.sk-toggleable__control:checked~div.sk-toggleable__content {max-height: 200px;max-width: 100%;overflow: auto;}#sk-container-id-21 input.sk-toggleable__control:checked~label.sk-toggleable__label-arrow:before {content: \"▾\";}#sk-container-id-21 div.sk-estimator input.sk-toggleable__control:checked~label.sk-toggleable__label {background-color: #d4ebff;}#sk-container-id-21 div.sk-label input.sk-toggleable__control:checked~label.sk-toggleable__label {background-color: #d4ebff;}#sk-container-id-21 input.sk-hidden--visually {border: 0;clip: rect(1px 1px 1px 1px);clip: rect(1px, 1px, 1px, 1px);height: 1px;margin: -1px;overflow: hidden;padding: 0;position: absolute;width: 1px;}#sk-container-id-21 div.sk-estimator {font-family: monospace;background-color: #f0f8ff;border: 1px dotted black;border-radius: 0.25em;box-sizing: border-box;margin-bottom: 0.5em;}#sk-container-id-21 div.sk-estimator:hover {background-color: #d4ebff;}#sk-container-id-21 div.sk-parallel-item::after {content: \"\";width: 100%;border-bottom: 1px solid gray;flex-grow: 1;}#sk-container-id-21 div.sk-label:hover label.sk-toggleable__label {background-color: #d4ebff;}#sk-container-id-21 div.sk-serial::before {content: \"\";position: absolute;border-left: 1px solid gray;box-sizing: border-box;top: 0;bottom: 0;left: 50%;z-index: 0;}#sk-container-id-21 div.sk-serial {display: flex;flex-direction: column;align-items: center;background-color: white;padding-right: 0.2em;padding-left: 0.2em;position: relative;}#sk-container-id-21 div.sk-item {position: relative;z-index: 1;}#sk-container-id-21 div.sk-parallel {display: flex;align-items: stretch;justify-content: center;background-color: white;position: relative;}#sk-container-id-21 div.sk-item::before, #sk-container-id-21 div.sk-parallel-item::before {content: \"\";position: absolute;border-left: 1px solid gray;box-sizing: border-box;top: 0;bottom: 0;left: 50%;z-index: -1;}#sk-container-id-21 div.sk-parallel-item {display: flex;flex-direction: column;z-index: 1;position: relative;background-color: white;}#sk-container-id-21 div.sk-parallel-item:first-child::after {align-self: flex-end;width: 50%;}#sk-container-id-21 div.sk-parallel-item:last-child::after {align-self: flex-start;width: 50%;}#sk-container-id-21 div.sk-parallel-item:only-child::after {width: 0;}#sk-container-id-21 div.sk-dashed-wrapped {border: 1px dashed gray;margin: 0 0.4em 0.5em 0.4em;box-sizing: border-box;padding-bottom: 0.4em;background-color: white;}#sk-container-id-21 div.sk-label label {font-family: monospace;font-weight: bold;display: inline-block;line-height: 1.2em;}#sk-container-id-21 div.sk-label-container {text-align: center;}#sk-container-id-21 div.sk-container {/* jupyter's `normalize.less` sets `[hidden] { display: none; }` but bootstrap.min.css set `[hidden] { display: none !important; }` so we also need the `!important` here to be able to override the default hidden behavior on the sphinx rendered scikit-learn.org. See: https://github.com/scikit-learn/scikit-learn/issues/21755 */display: inline-block !important;position: relative;}#sk-container-id-21 div.sk-text-repr-fallback {display: none;}</style><div id=\"sk-container-id-21\" class=\"sk-top-container\"><div class=\"sk-text-repr-fallback\"><pre>BaggingClassifier(estimator=RandomForestClassifier(min_weight_fraction_leaf=0.000215,\n",
       "                                                   n_estimators=150),\n",
       "                  max_features=0.5, max_samples=0.5)</pre><b>In a Jupyter environment, please rerun this cell to show the HTML representation or trust the notebook. <br />On GitHub, the HTML representation is unable to render, please try loading this page with nbviewer.org.</b></div><div class=\"sk-container\" hidden><div class=\"sk-item sk-dashed-wrapped\"><div class=\"sk-label-container\"><div class=\"sk-label sk-toggleable\"><input class=\"sk-toggleable__control sk-hidden--visually\" id=\"sk-estimator-id-35\" type=\"checkbox\" ><label for=\"sk-estimator-id-35\" class=\"sk-toggleable__label sk-toggleable__label-arrow\">BaggingClassifier</label><div class=\"sk-toggleable__content\"><pre>BaggingClassifier(estimator=RandomForestClassifier(min_weight_fraction_leaf=0.000215,\n",
       "                                                   n_estimators=150),\n",
       "                  max_features=0.5, max_samples=0.5)</pre></div></div></div><div class=\"sk-parallel\"><div class=\"sk-parallel-item\"><div class=\"sk-item\"><div class=\"sk-label-container\"><div class=\"sk-label sk-toggleable\"><input class=\"sk-toggleable__control sk-hidden--visually\" id=\"sk-estimator-id-36\" type=\"checkbox\" ><label for=\"sk-estimator-id-36\" class=\"sk-toggleable__label sk-toggleable__label-arrow\">estimator: RandomForestClassifier</label><div class=\"sk-toggleable__content\"><pre>RandomForestClassifier(min_weight_fraction_leaf=0.000215, n_estimators=150)</pre></div></div></div><div class=\"sk-serial\"><div class=\"sk-item\"><div class=\"sk-estimator sk-toggleable\"><input class=\"sk-toggleable__control sk-hidden--visually\" id=\"sk-estimator-id-37\" type=\"checkbox\" ><label for=\"sk-estimator-id-37\" class=\"sk-toggleable__label sk-toggleable__label-arrow\">RandomForestClassifier</label><div class=\"sk-toggleable__content\"><pre>RandomForestClassifier(min_weight_fraction_leaf=0.000215, n_estimators=150)</pre></div></div></div></div></div></div></div></div></div></div>"
      ],
      "text/plain": [
       "BaggingClassifier(estimator=RandomForestClassifier(min_weight_fraction_leaf=0.000215,\n",
       "                                                   n_estimators=150),\n",
       "                  max_features=0.5, max_samples=0.5)"
      ]
     },
     "execution_count": 107,
     "metadata": {},
     "output_type": "execute_result"
    }
   ],
   "source": [
    "bagging.fit(dev_X, dev_y.ravel())"
   ]
  },
  {
   "cell_type": "code",
   "execution_count": 108,
   "id": "ccd6f435",
   "metadata": {},
   "outputs": [
    {
     "data": {
      "text/plain": [
       "0.6761333333333334"
      ]
     },
     "execution_count": 108,
     "metadata": {},
     "output_type": "execute_result"
    }
   ],
   "source": [
    "bagging.score(test_X, test_y)"
   ]
  },
  {
   "cell_type": "code",
   "execution_count": 81,
   "id": "4e9dce62",
   "metadata": {},
   "outputs": [
    {
     "data": {
      "text/plain": [
       "<sklearn.metrics._plot.confusion_matrix.ConfusionMatrixDisplay at 0x7fafd4257a60>"
      ]
     },
     "execution_count": 81,
     "metadata": {},
     "output_type": "execute_result"
    },
    {
     "data": {
      "image/png": "[encoded data removed]",
      "text/plain": [
       "<Figure size 640x480 with 2 Axes>"
      ]
     },
     "metadata": {},
     "output_type": "display_data"
    }
   ],
   "source": [
    "#confusion matrix\n",
    "\n",
    "confusion_matrix = sklearn.metrics.confusion_matrix(preds, test_y)\n",
    "sklearn.metrics.ConfusionMatrixDisplay(confusion_matrix).plot()"
   ]
  },
  {
   "cell_type": "code",
   "execution_count": null,
   "id": "36f29945",
   "metadata": {},
   "outputs": [],
   "source": []
  },
  {
   "cell_type": "markdown",
   "id": "a90191c7",
   "metadata": {},
   "source": [
    "**Start with Random Forest Classifier**"
   ]
  },
  {
   "cell_type": "markdown",
   "id": "137469cb",
   "metadata": {},
   "source": [
    "Random Search"
   ]
  },
  {
   "cell_type": "code",
   "execution_count": 96,
   "id": "24d6bc8f",
   "metadata": {},
   "outputs": [],
   "source": [
    "# create hyperparameter value options for each hyperparameter\n",
    "max_depth_options = [1,2,3,4,5]\n",
    "min_weight_fraction_options = [0, 0.1, 0.2, 0.3, 0.4]\n",
    "max_sample_options = [0, 0.1, 0.2, 0.3, 0.4, 0.5, 0.6, 0.7, 0.8, 0.9, 1]\n",
    "min_samples_split_options = [i for i in range(20)]"
   ]
  },
  {
   "cell_type": "code",
   "execution_count": 97,
   "id": "3c37d42f",
   "metadata": {
    "scrolled": false
   },
   "outputs": [
    {
     "name": "stderr",
     "output_type": "stream",
     "text": [
      "/Users/loganroberts/opt/anaconda3/envs/validprot/lib/python3.10/site-packages/sklearn/model_selection/_validation.py:378: FitFailedWarning: \n",
      "5 fits failed out of a total of 50.\n",
      "The score on these train-test partitions for these parameters will be set to nan.\n",
      "If these failures are not expected, you can try to debug them by setting error_score='raise'.\n",
      "\n",
      "Below are more details about the failures:\n",
      "--------------------------------------------------------------------------------\n",
      "5 fits failed with the following error:\n",
      "Traceback (most recent call last):\n",
      "  File \"/Users/loganroberts/opt/anaconda3/envs/validprot/lib/python3.10/site-packages/sklearn/model_selection/_validation.py\", line 686, in _fit_and_score\n",
      "    estimator.fit(X_train, y_train, **fit_params)\n",
      "  File \"/Users/loganroberts/opt/anaconda3/envs/validprot/lib/python3.10/site-packages/sklearn/ensemble/_forest.py\", line 340, in fit\n",
      "    self._validate_params()\n",
      "  File \"/Users/loganroberts/opt/anaconda3/envs/validprot/lib/python3.10/site-packages/sklearn/base.py\", line 581, in _validate_params\n",
      "    validate_parameter_constraints(\n",
      "  File \"/Users/loganroberts/opt/anaconda3/envs/validprot/lib/python3.10/site-packages/sklearn/utils/_param_validation.py\", line 97, in validate_parameter_constraints\n",
      "    raise InvalidParameterError(\n",
      "sklearn.utils._param_validation.InvalidParameterError: The 'max_samples' parameter of RandomForestClassifier must be None, a float in the range (0.0, 1.0] or an int in the range [1, inf). Got 0 instead.\n",
      "\n",
      "  warnings.warn(some_fits_failed_message, FitFailedWarning)\n",
      "/Users/loganroberts/opt/anaconda3/envs/validprot/lib/python3.10/site-packages/sklearn/model_selection/_search.py:952: UserWarning: One or more of the test scores are non-finite: [0.62435294 0.62512941 0.62508235        nan 0.63265882 0.65131765\n",
      " 0.63096471 0.62430588 0.49684706 0.62505882]\n",
      "  warnings.warn(\n"
     ]
    },
    {
     "name": "stdout",
     "output_type": "stream",
     "text": [
      "Best hyperparameters:  {'n_estimators': 150, 'min_weight_fraction_leaf': 0.1, 'min_samples_split': 11, 'max_samples': 0.6, 'max_depth': 5}\n"
     ]
    }
   ],
   "source": [
    "# Define the grid of hyperparameter options\n",
    "\n",
    "param_grid = {\n",
    "    'max_depth': max_depth_options,\n",
    "    'min_weight_fraction_leaf': min_weight_fraction_options,\n",
    "    'n_estimators': [50,100,150,200],\n",
    "    'min_samples_split': min_samples_split_options,\n",
    "    'max_samples': max_sample_options\n",
    "}\n",
    "# Create the grid search object\n",
    "# Give it the model we want to use, the hyperparameters to search over\n",
    "#CV param does cross validation for me\n",
    "random_search = sklearn.model_selection.RandomizedSearchCV(\n",
    "    sklearn.ensemble.RandomForestClassifier(),\n",
    "    param_grid,\n",
    "    cv=5\n",
    ")\n",
    "# execute the grid search\n",
    "random_search.fit(dev_X, dev_y.ravel())\n",
    "\n",
    "print('Best hyperparameters: ', random_search.best_params_)"
   ]
  },
  {
   "cell_type": "code",
   "execution_count": 59,
   "id": "1887af07",
   "metadata": {},
   "outputs": [
    {
     "name": "stdout",
     "output_type": "stream",
     "text": [
      "0.6572\n"
     ]
    }
   ],
   "source": [
    "model = sklearn.ensemble.RandomForestClassifier(n_estimators=50, min_weight_fraction_leaf=0.0002153178126766452, max_depth=5)\n",
    "model.fit(dev_X, dev_y.ravel())\n",
    "print(model.score(test_X, test_y))"
   ]
  },
  {
   "cell_type": "markdown",
   "id": "388779a8",
   "metadata": {},
   "source": [
    "TPE with Optuna"
   ]
  },
  {
   "cell_type": "code",
   "execution_count": 43,
   "id": "637d689e",
   "metadata": {},
   "outputs": [],
   "source": [
    "def train_evaluate_hyperparameters(max_depth, min_weight_fraction_leaf, n_estimators):\n",
    "    \n",
    "    # create RF classifier model\n",
    "    model = sklearn.ensemble.RandomForestClassifier(max_depth=max_depth, min_weight_fraction_leaf=min_weight_fraction_leaf,\n",
    "                                               n_estimators=n_estimators)\n",
    "    \n",
    "    # train the model on the training set\n",
    "    fit = model.fit(train_X, train_y)\n",
    "    \n",
    "    # evaluate the model on the validation set\n",
    "    score = model.score(val_X, val_y)\n",
    "    \n",
    "    return score"
   ]
  },
  {
   "cell_type": "code",
   "execution_count": 44,
   "id": "791971a9",
   "metadata": {
    "scrolled": false
   },
   "outputs": [
    {
     "name": "stderr",
     "output_type": "stream",
     "text": [
      "\u001b[32m[I 2023-03-12 13:19:38,933]\u001b[0m A new study created in memory with name: no-name-4a3a10a2-a838-463f-8093-16731f23f717\u001b[0m\n",
      "/var/folders/1n/stf1qksj3jb8f79pgwq8cslc0000gn/T/ipykernel_33089/172233721.py:4: FutureWarning: suggest_uniform has been deprecated in v3.0.0. This feature will be removed in v6.0.0. See https://github.com/optuna/optuna/releases/tag/v3.0.0. Use :func:`~optuna.trial.Trial.suggest_float` instead.\n",
      "  min_weight_fraction_options = trial.suggest_uniform(\"min_weight_fraction_options\", 0,0.4)\n",
      "/var/folders/1n/stf1qksj3jb8f79pgwq8cslc0000gn/T/ipykernel_33089/1086670810.py:8: DataConversionWarning: A column-vector y was passed when a 1d array was expected. Please change the shape of y to (n_samples,), for example using ravel().\n",
      "  fit = model.fit(train_X, train_y)\n",
      "\u001b[32m[I 2023-03-12 13:19:41,019]\u001b[0m Trial 0 finished with value: 0.6252549019607843 and parameters: {'max_depth_options': 2, 'min_weight_fraction_options': 0.2546725523337537, 'n_estimators': 150}. Best is trial 0 with value: 0.6252549019607843.\u001b[0m\n",
      "/var/folders/1n/stf1qksj3jb8f79pgwq8cslc0000gn/T/ipykernel_33089/172233721.py:4: FutureWarning: suggest_uniform has been deprecated in v3.0.0. This feature will be removed in v6.0.0. See https://github.com/optuna/optuna/releases/tag/v3.0.0. Use :func:`~optuna.trial.Trial.suggest_float` instead.\n",
      "  min_weight_fraction_options = trial.suggest_uniform(\"min_weight_fraction_options\", 0,0.4)\n",
      "/var/folders/1n/stf1qksj3jb8f79pgwq8cslc0000gn/T/ipykernel_33089/1086670810.py:8: DataConversionWarning: A column-vector y was passed when a 1d array was expected. Please change the shape of y to (n_samples,), for example using ravel().\n",
      "  fit = model.fit(train_X, train_y)\n",
      "\u001b[32m[I 2023-03-12 13:19:42,656]\u001b[0m Trial 1 finished with value: 0.6307450980392156 and parameters: {'max_depth_options': 2, 'min_weight_fraction_options': 0.06960735335905244, 'n_estimators': 100}. Best is trial 1 with value: 0.6307450980392156.\u001b[0m\n",
      "/var/folders/1n/stf1qksj3jb8f79pgwq8cslc0000gn/T/ipykernel_33089/172233721.py:4: FutureWarning: suggest_uniform has been deprecated in v3.0.0. This feature will be removed in v6.0.0. See https://github.com/optuna/optuna/releases/tag/v3.0.0. Use :func:`~optuna.trial.Trial.suggest_float` instead.\n",
      "  min_weight_fraction_options = trial.suggest_uniform(\"min_weight_fraction_options\", 0,0.4)\n",
      "/var/folders/1n/stf1qksj3jb8f79pgwq8cslc0000gn/T/ipykernel_33089/1086670810.py:8: DataConversionWarning: A column-vector y was passed when a 1d array was expected. Please change the shape of y to (n_samples,), for example using ravel().\n",
      "  fit = model.fit(train_X, train_y)\n",
      "\u001b[32m[I 2023-03-12 13:19:44,034]\u001b[0m Trial 2 finished with value: 0.6312156862745099 and parameters: {'max_depth_options': 2, 'min_weight_fraction_options': 0.17927220414861855, 'n_estimators': 100}. Best is trial 2 with value: 0.6312156862745099.\u001b[0m\n",
      "/var/folders/1n/stf1qksj3jb8f79pgwq8cslc0000gn/T/ipykernel_33089/172233721.py:4: FutureWarning: suggest_uniform has been deprecated in v3.0.0. This feature will be removed in v6.0.0. See https://github.com/optuna/optuna/releases/tag/v3.0.0. Use :func:`~optuna.trial.Trial.suggest_float` instead.\n",
      "  min_weight_fraction_options = trial.suggest_uniform(\"min_weight_fraction_options\", 0,0.4)\n",
      "/var/folders/1n/stf1qksj3jb8f79pgwq8cslc0000gn/T/ipykernel_33089/1086670810.py:8: DataConversionWarning: A column-vector y was passed when a 1d array was expected. Please change the shape of y to (n_samples,), for example using ravel().\n",
      "  fit = model.fit(train_X, train_y)\n",
      "\u001b[32m[I 2023-03-12 13:19:48,376]\u001b[0m Trial 3 finished with value: 0.6547450980392157 and parameters: {'max_depth_options': 4, 'min_weight_fraction_options': 0.08666575224293878, 'n_estimators': 150}. Best is trial 3 with value: 0.6547450980392157.\u001b[0m\n",
      "/var/folders/1n/stf1qksj3jb8f79pgwq8cslc0000gn/T/ipykernel_33089/172233721.py:4: FutureWarning: suggest_uniform has been deprecated in v3.0.0. This feature will be removed in v6.0.0. See https://github.com/optuna/optuna/releases/tag/v3.0.0. Use :func:`~optuna.trial.Trial.suggest_float` instead.\n",
      "  min_weight_fraction_options = trial.suggest_uniform(\"min_weight_fraction_options\", 0,0.4)\n",
      "/var/folders/1n/stf1qksj3jb8f79pgwq8cslc0000gn/T/ipykernel_33089/1086670810.py:8: DataConversionWarning: A column-vector y was passed when a 1d array was expected. Please change the shape of y to (n_samples,), for example using ravel().\n",
      "  fit = model.fit(train_X, train_y)\n",
      "\u001b[32m[I 2023-03-12 13:19:51,801]\u001b[0m Trial 4 finished with value: 0.6221176470588236 and parameters: {'max_depth_options': 1, 'min_weight_fraction_options': 0.28552622781532244, 'n_estimators': 200}. Best is trial 3 with value: 0.6547450980392157.\u001b[0m\n",
      "/var/folders/1n/stf1qksj3jb8f79pgwq8cslc0000gn/T/ipykernel_33089/172233721.py:4: FutureWarning: suggest_uniform has been deprecated in v3.0.0. This feature will be removed in v6.0.0. See https://github.com/optuna/optuna/releases/tag/v3.0.0. Use :func:`~optuna.trial.Trial.suggest_float` instead.\n",
      "  min_weight_fraction_options = trial.suggest_uniform(\"min_weight_fraction_options\", 0,0.4)\n",
      "/var/folders/1n/stf1qksj3jb8f79pgwq8cslc0000gn/T/ipykernel_33089/1086670810.py:8: DataConversionWarning: A column-vector y was passed when a 1d array was expected. Please change the shape of y to (n_samples,), for example using ravel().\n",
      "  fit = model.fit(train_X, train_y)\n",
      "\u001b[32m[I 2023-03-12 13:19:52,695]\u001b[0m Trial 5 finished with value: 0.6269803921568627 and parameters: {'max_depth_options': 3, 'min_weight_fraction_options': 0.2971209874634544, 'n_estimators': 50}. Best is trial 3 with value: 0.6547450980392157.\u001b[0m\n",
      "/var/folders/1n/stf1qksj3jb8f79pgwq8cslc0000gn/T/ipykernel_33089/172233721.py:4: FutureWarning: suggest_uniform has been deprecated in v3.0.0. This feature will be removed in v6.0.0. See https://github.com/optuna/optuna/releases/tag/v3.0.0. Use :func:`~optuna.trial.Trial.suggest_float` instead.\n",
      "  min_weight_fraction_options = trial.suggest_uniform(\"min_weight_fraction_options\", 0,0.4)\n",
      "/var/folders/1n/stf1qksj3jb8f79pgwq8cslc0000gn/T/ipykernel_33089/1086670810.py:8: DataConversionWarning: A column-vector y was passed when a 1d array was expected. Please change the shape of y to (n_samples,), for example using ravel().\n",
      "  fit = model.fit(train_X, train_y)\n",
      "\u001b[32m[I 2023-03-12 13:19:54,468]\u001b[0m Trial 6 finished with value: 0.6304313725490196 and parameters: {'max_depth_options': 5, 'min_weight_fraction_options': 0.2091625398733839, 'n_estimators': 100}. Best is trial 3 with value: 0.6547450980392157.\u001b[0m\n",
      "/var/folders/1n/stf1qksj3jb8f79pgwq8cslc0000gn/T/ipykernel_33089/172233721.py:4: FutureWarning: suggest_uniform has been deprecated in v3.0.0. This feature will be removed in v6.0.0. See https://github.com/optuna/optuna/releases/tag/v3.0.0. Use :func:`~optuna.trial.Trial.suggest_float` instead.\n",
      "  min_weight_fraction_options = trial.suggest_uniform(\"min_weight_fraction_options\", 0,0.4)\n",
      "/var/folders/1n/stf1qksj3jb8f79pgwq8cslc0000gn/T/ipykernel_33089/1086670810.py:8: DataConversionWarning: A column-vector y was passed when a 1d array was expected. Please change the shape of y to (n_samples,), for example using ravel().\n",
      "  fit = model.fit(train_X, train_y)\n",
      "\u001b[32m[I 2023-03-12 13:19:55,397]\u001b[0m Trial 7 finished with value: 0.6469019607843137 and parameters: {'max_depth_options': 3, 'min_weight_fraction_options': 0.10642317435741609, 'n_estimators': 50}. Best is trial 3 with value: 0.6547450980392157.\u001b[0m\n",
      "/var/folders/1n/stf1qksj3jb8f79pgwq8cslc0000gn/T/ipykernel_33089/172233721.py:4: FutureWarning: suggest_uniform has been deprecated in v3.0.0. This feature will be removed in v6.0.0. See https://github.com/optuna/optuna/releases/tag/v3.0.0. Use :func:`~optuna.trial.Trial.suggest_float` instead.\n",
      "  min_weight_fraction_options = trial.suggest_uniform(\"min_weight_fraction_options\", 0,0.4)\n",
      "/var/folders/1n/stf1qksj3jb8f79pgwq8cslc0000gn/T/ipykernel_33089/1086670810.py:8: DataConversionWarning: A column-vector y was passed when a 1d array was expected. Please change the shape of y to (n_samples,), for example using ravel().\n",
      "  fit = model.fit(train_X, train_y)\n",
      "\u001b[32m[I 2023-03-12 13:19:56,105]\u001b[0m Trial 8 finished with value: 0.6307450980392156 and parameters: {'max_depth_options': 2, 'min_weight_fraction_options': 0.08849375455176829, 'n_estimators': 50}. Best is trial 3 with value: 0.6547450980392157.\u001b[0m\n"
     ]
    },
    {
     "name": "stderr",
     "output_type": "stream",
     "text": [
      "/var/folders/1n/stf1qksj3jb8f79pgwq8cslc0000gn/T/ipykernel_33089/172233721.py:4: FutureWarning: suggest_uniform has been deprecated in v3.0.0. This feature will be removed in v6.0.0. See https://github.com/optuna/optuna/releases/tag/v3.0.0. Use :func:`~optuna.trial.Trial.suggest_float` instead.\n",
      "  min_weight_fraction_options = trial.suggest_uniform(\"min_weight_fraction_options\", 0,0.4)\n",
      "/var/folders/1n/stf1qksj3jb8f79pgwq8cslc0000gn/T/ipykernel_33089/1086670810.py:8: DataConversionWarning: A column-vector y was passed when a 1d array was expected. Please change the shape of y to (n_samples,), for example using ravel().\n",
      "  fit = model.fit(train_X, train_y)\n",
      "\u001b[32m[I 2023-03-12 13:19:59,045]\u001b[0m Trial 9 finished with value: 0.6305882352941177 and parameters: {'max_depth_options': 3, 'min_weight_fraction_options': 0.2248206823993893, 'n_estimators': 200}. Best is trial 3 with value: 0.6547450980392157.\u001b[0m\n",
      "/var/folders/1n/stf1qksj3jb8f79pgwq8cslc0000gn/T/ipykernel_33089/172233721.py:4: FutureWarning: suggest_uniform has been deprecated in v3.0.0. This feature will be removed in v6.0.0. See https://github.com/optuna/optuna/releases/tag/v3.0.0. Use :func:`~optuna.trial.Trial.suggest_float` instead.\n",
      "  min_weight_fraction_options = trial.suggest_uniform(\"min_weight_fraction_options\", 0,0.4)\n",
      "/var/folders/1n/stf1qksj3jb8f79pgwq8cslc0000gn/T/ipykernel_33089/1086670810.py:8: DataConversionWarning: A column-vector y was passed when a 1d array was expected. Please change the shape of y to (n_samples,), for example using ravel().\n",
      "  fit = model.fit(train_X, train_y)\n",
      "\u001b[32m[I 2023-03-12 13:20:03,539]\u001b[0m Trial 10 finished with value: 0.6625882352941177 and parameters: {'max_depth_options': 5, 'min_weight_fraction_options': 0.0029704991132773195, 'n_estimators': 150}. Best is trial 10 with value: 0.6625882352941177.\u001b[0m\n",
      "/var/folders/1n/stf1qksj3jb8f79pgwq8cslc0000gn/T/ipykernel_33089/172233721.py:4: FutureWarning: suggest_uniform has been deprecated in v3.0.0. This feature will be removed in v6.0.0. See https://github.com/optuna/optuna/releases/tag/v3.0.0. Use :func:`~optuna.trial.Trial.suggest_float` instead.\n",
      "  min_weight_fraction_options = trial.suggest_uniform(\"min_weight_fraction_options\", 0,0.4)\n",
      "/var/folders/1n/stf1qksj3jb8f79pgwq8cslc0000gn/T/ipykernel_33089/1086670810.py:8: DataConversionWarning: A column-vector y was passed when a 1d array was expected. Please change the shape of y to (n_samples,), for example using ravel().\n",
      "  fit = model.fit(train_X, train_y)\n",
      "\u001b[32m[I 2023-03-12 13:20:07,649]\u001b[0m Trial 11 finished with value: 0.6605490196078432 and parameters: {'max_depth_options': 5, 'min_weight_fraction_options': 0.01645209310560944, 'n_estimators': 150}. Best is trial 10 with value: 0.6625882352941177.\u001b[0m\n",
      "/var/folders/1n/stf1qksj3jb8f79pgwq8cslc0000gn/T/ipykernel_33089/172233721.py:4: FutureWarning: suggest_uniform has been deprecated in v3.0.0. This feature will be removed in v6.0.0. See https://github.com/optuna/optuna/releases/tag/v3.0.0. Use :func:`~optuna.trial.Trial.suggest_float` instead.\n",
      "  min_weight_fraction_options = trial.suggest_uniform(\"min_weight_fraction_options\", 0,0.4)\n",
      "/var/folders/1n/stf1qksj3jb8f79pgwq8cslc0000gn/T/ipykernel_33089/1086670810.py:8: DataConversionWarning: A column-vector y was passed when a 1d array was expected. Please change the shape of y to (n_samples,), for example using ravel().\n",
      "  fit = model.fit(train_X, train_y)\n",
      "\u001b[32m[I 2023-03-12 13:20:11,849]\u001b[0m Trial 12 finished with value: 0.6603921568627451 and parameters: {'max_depth_options': 5, 'min_weight_fraction_options': 0.010772457543023925, 'n_estimators': 150}. Best is trial 10 with value: 0.6625882352941177.\u001b[0m\n",
      "/var/folders/1n/stf1qksj3jb8f79pgwq8cslc0000gn/T/ipykernel_33089/172233721.py:4: FutureWarning: suggest_uniform has been deprecated in v3.0.0. This feature will be removed in v6.0.0. See https://github.com/optuna/optuna/releases/tag/v3.0.0. Use :func:`~optuna.trial.Trial.suggest_float` instead.\n",
      "  min_weight_fraction_options = trial.suggest_uniform(\"min_weight_fraction_options\", 0,0.4)\n",
      "/var/folders/1n/stf1qksj3jb8f79pgwq8cslc0000gn/T/ipykernel_33089/1086670810.py:8: DataConversionWarning: A column-vector y was passed when a 1d array was expected. Please change the shape of y to (n_samples,), for example using ravel().\n",
      "  fit = model.fit(train_X, train_y)\n",
      "\u001b[32m[I 2023-03-12 13:20:15,460]\u001b[0m Trial 13 finished with value: 0.659921568627451 and parameters: {'max_depth_options': 4, 'min_weight_fraction_options': 0.006941783187945211, 'n_estimators': 150}. Best is trial 10 with value: 0.6625882352941177.\u001b[0m\n",
      "/var/folders/1n/stf1qksj3jb8f79pgwq8cslc0000gn/T/ipykernel_33089/172233721.py:4: FutureWarning: suggest_uniform has been deprecated in v3.0.0. This feature will be removed in v6.0.0. See https://github.com/optuna/optuna/releases/tag/v3.0.0. Use :func:`~optuna.trial.Trial.suggest_float` instead.\n",
      "  min_weight_fraction_options = trial.suggest_uniform(\"min_weight_fraction_options\", 0,0.4)\n",
      "/var/folders/1n/stf1qksj3jb8f79pgwq8cslc0000gn/T/ipykernel_33089/1086670810.py:8: DataConversionWarning: A column-vector y was passed when a 1d array was expected. Please change the shape of y to (n_samples,), for example using ravel().\n",
      "  fit = model.fit(train_X, train_y)\n",
      "\u001b[32m[I 2023-03-12 13:20:17,363]\u001b[0m Trial 14 finished with value: 0.6252549019607843 and parameters: {'max_depth_options': 5, 'min_weight_fraction_options': 0.3937328998769645, 'n_estimators': 200}. Best is trial 10 with value: 0.6625882352941177.\u001b[0m\n",
      "/var/folders/1n/stf1qksj3jb8f79pgwq8cslc0000gn/T/ipykernel_33089/172233721.py:4: FutureWarning: suggest_uniform has been deprecated in v3.0.0. This feature will be removed in v6.0.0. See https://github.com/optuna/optuna/releases/tag/v3.0.0. Use :func:`~optuna.trial.Trial.suggest_float` instead.\n",
      "  min_weight_fraction_options = trial.suggest_uniform(\"min_weight_fraction_options\", 0,0.4)\n",
      "/var/folders/1n/stf1qksj3jb8f79pgwq8cslc0000gn/T/ipykernel_33089/1086670810.py:8: DataConversionWarning: A column-vector y was passed when a 1d array was expected. Please change the shape of y to (n_samples,), for example using ravel().\n",
      "  fit = model.fit(train_X, train_y)\n",
      "\u001b[32m[I 2023-03-12 13:20:20,592]\u001b[0m Trial 15 finished with value: 0.6544313725490196 and parameters: {'max_depth_options': 4, 'min_weight_fraction_options': 0.05864934483416804, 'n_estimators': 150}. Best is trial 10 with value: 0.6625882352941177.\u001b[0m\n",
      "/var/folders/1n/stf1qksj3jb8f79pgwq8cslc0000gn/T/ipykernel_33089/172233721.py:4: FutureWarning: suggest_uniform has been deprecated in v3.0.0. This feature will be removed in v6.0.0. See https://github.com/optuna/optuna/releases/tag/v3.0.0. Use :func:`~optuna.trial.Trial.suggest_float` instead.\n",
      "  min_weight_fraction_options = trial.suggest_uniform(\"min_weight_fraction_options\", 0,0.4)\n",
      "/var/folders/1n/stf1qksj3jb8f79pgwq8cslc0000gn/T/ipykernel_33089/1086670810.py:8: DataConversionWarning: A column-vector y was passed when a 1d array was expected. Please change the shape of y to (n_samples,), for example using ravel().\n",
      "  fit = model.fit(train_X, train_y)\n",
      "\u001b[32m[I 2023-03-12 13:20:22,478]\u001b[0m Trial 16 finished with value: 0.6464313725490196 and parameters: {'max_depth_options': 5, 'min_weight_fraction_options': 0.14989416843767567, 'n_estimators': 100}. Best is trial 10 with value: 0.6625882352941177.\u001b[0m\n",
      "/var/folders/1n/stf1qksj3jb8f79pgwq8cslc0000gn/T/ipykernel_33089/172233721.py:4: FutureWarning: suggest_uniform has been deprecated in v3.0.0. This feature will be removed in v6.0.0. See https://github.com/optuna/optuna/releases/tag/v3.0.0. Use :func:`~optuna.trial.Trial.suggest_float` instead.\n",
      "  min_weight_fraction_options = trial.suggest_uniform(\"min_weight_fraction_options\", 0,0.4)\n",
      "/var/folders/1n/stf1qksj3jb8f79pgwq8cslc0000gn/T/ipykernel_33089/1086670810.py:8: DataConversionWarning: A column-vector y was passed when a 1d array was expected. Please change the shape of y to (n_samples,), for example using ravel().\n",
      "  fit = model.fit(train_X, train_y)\n",
      "\u001b[32m[I 2023-03-12 13:20:27,235]\u001b[0m Trial 17 finished with value: 0.6572549019607843 and parameters: {'max_depth_options': 4, 'min_weight_fraction_options': 0.003238697614670544, 'n_estimators': 200}. Best is trial 10 with value: 0.6625882352941177.\u001b[0m\n"
     ]
    },
    {
     "name": "stderr",
     "output_type": "stream",
     "text": [
      "/var/folders/1n/stf1qksj3jb8f79pgwq8cslc0000gn/T/ipykernel_33089/172233721.py:4: FutureWarning: suggest_uniform has been deprecated in v3.0.0. This feature will be removed in v6.0.0. See https://github.com/optuna/optuna/releases/tag/v3.0.0. Use :func:`~optuna.trial.Trial.suggest_float` instead.\n",
      "  min_weight_fraction_options = trial.suggest_uniform(\"min_weight_fraction_options\", 0,0.4)\n",
      "/var/folders/1n/stf1qksj3jb8f79pgwq8cslc0000gn/T/ipykernel_33089/1086670810.py:8: DataConversionWarning: A column-vector y was passed when a 1d array was expected. Please change the shape of y to (n_samples,), for example using ravel().\n",
      "  fit = model.fit(train_X, train_y)\n",
      "\u001b[32m[I 2023-03-12 13:20:31,065]\u001b[0m Trial 18 finished with value: 0.6538039215686274 and parameters: {'max_depth_options': 5, 'min_weight_fraction_options': 0.03731496790099021, 'n_estimators': 150}. Best is trial 10 with value: 0.6625882352941177.\u001b[0m\n",
      "/var/folders/1n/stf1qksj3jb8f79pgwq8cslc0000gn/T/ipykernel_33089/172233721.py:4: FutureWarning: suggest_uniform has been deprecated in v3.0.0. This feature will be removed in v6.0.0. See https://github.com/optuna/optuna/releases/tag/v3.0.0. Use :func:`~optuna.trial.Trial.suggest_float` instead.\n",
      "  min_weight_fraction_options = trial.suggest_uniform(\"min_weight_fraction_options\", 0,0.4)\n",
      "/var/folders/1n/stf1qksj3jb8f79pgwq8cslc0000gn/T/ipykernel_33089/1086670810.py:8: DataConversionWarning: A column-vector y was passed when a 1d array was expected. Please change the shape of y to (n_samples,), for example using ravel().\n",
      "  fit = model.fit(train_X, train_y)\n",
      "\u001b[32m[I 2023-03-12 13:20:32,969]\u001b[0m Trial 19 finished with value: 0.6517647058823529 and parameters: {'max_depth_options': 4, 'min_weight_fraction_options': 0.1237948861605987, 'n_estimators': 100}. Best is trial 10 with value: 0.6625882352941177.\u001b[0m\n",
      "/var/folders/1n/stf1qksj3jb8f79pgwq8cslc0000gn/T/ipykernel_33089/172233721.py:4: FutureWarning: suggest_uniform has been deprecated in v3.0.0. This feature will be removed in v6.0.0. See https://github.com/optuna/optuna/releases/tag/v3.0.0. Use :func:`~optuna.trial.Trial.suggest_float` instead.\n",
      "  min_weight_fraction_options = trial.suggest_uniform(\"min_weight_fraction_options\", 0,0.4)\n",
      "/var/folders/1n/stf1qksj3jb8f79pgwq8cslc0000gn/T/ipykernel_33089/1086670810.py:8: DataConversionWarning: A column-vector y was passed when a 1d array was expected. Please change the shape of y to (n_samples,), for example using ravel().\n",
      "  fit = model.fit(train_X, train_y)\n",
      "\u001b[32m[I 2023-03-12 13:20:37,903]\u001b[0m Trial 20 finished with value: 0.6528627450980392 and parameters: {'max_depth_options': 5, 'min_weight_fraction_options': 0.048163337553199376, 'n_estimators': 200}. Best is trial 10 with value: 0.6625882352941177.\u001b[0m\n",
      "/var/folders/1n/stf1qksj3jb8f79pgwq8cslc0000gn/T/ipykernel_33089/172233721.py:4: FutureWarning: suggest_uniform has been deprecated in v3.0.0. This feature will be removed in v6.0.0. See https://github.com/optuna/optuna/releases/tag/v3.0.0. Use :func:`~optuna.trial.Trial.suggest_float` instead.\n",
      "  min_weight_fraction_options = trial.suggest_uniform(\"min_weight_fraction_options\", 0,0.4)\n",
      "/var/folders/1n/stf1qksj3jb8f79pgwq8cslc0000gn/T/ipykernel_33089/1086670810.py:8: DataConversionWarning: A column-vector y was passed when a 1d array was expected. Please change the shape of y to (n_samples,), for example using ravel().\n",
      "  fit = model.fit(train_X, train_y)\n",
      "\u001b[32m[I 2023-03-12 13:20:42,196]\u001b[0m Trial 21 finished with value: 0.6629019607843137 and parameters: {'max_depth_options': 5, 'min_weight_fraction_options': 0.0007528350208673706, 'n_estimators': 150}. Best is trial 21 with value: 0.6629019607843137.\u001b[0m\n",
      "/var/folders/1n/stf1qksj3jb8f79pgwq8cslc0000gn/T/ipykernel_33089/172233721.py:4: FutureWarning: suggest_uniform has been deprecated in v3.0.0. This feature will be removed in v6.0.0. See https://github.com/optuna/optuna/releases/tag/v3.0.0. Use :func:`~optuna.trial.Trial.suggest_float` instead.\n",
      "  min_weight_fraction_options = trial.suggest_uniform(\"min_weight_fraction_options\", 0,0.4)\n",
      "/var/folders/1n/stf1qksj3jb8f79pgwq8cslc0000gn/T/ipykernel_33089/1086670810.py:8: DataConversionWarning: A column-vector y was passed when a 1d array was expected. Please change the shape of y to (n_samples,), for example using ravel().\n",
      "  fit = model.fit(train_X, train_y)\n",
      "\u001b[32m[I 2023-03-12 13:20:46,017]\u001b[0m Trial 22 finished with value: 0.6555294117647059 and parameters: {'max_depth_options': 5, 'min_weight_fraction_options': 0.03468000721830663, 'n_estimators': 150}. Best is trial 21 with value: 0.6629019607843137.\u001b[0m\n",
      "/var/folders/1n/stf1qksj3jb8f79pgwq8cslc0000gn/T/ipykernel_33089/172233721.py:4: FutureWarning: suggest_uniform has been deprecated in v3.0.0. This feature will be removed in v6.0.0. See https://github.com/optuna/optuna/releases/tag/v3.0.0. Use :func:`~optuna.trial.Trial.suggest_float` instead.\n",
      "  min_weight_fraction_options = trial.suggest_uniform(\"min_weight_fraction_options\", 0,0.4)\n",
      "/var/folders/1n/stf1qksj3jb8f79pgwq8cslc0000gn/T/ipykernel_33089/1086670810.py:8: DataConversionWarning: A column-vector y was passed when a 1d array was expected. Please change the shape of y to (n_samples,), for example using ravel().\n",
      "  fit = model.fit(train_X, train_y)\n",
      "\u001b[32m[I 2023-03-12 13:20:49,607]\u001b[0m Trial 23 finished with value: 0.6570980392156863 and parameters: {'max_depth_options': 4, 'min_weight_fraction_options': 0.002674499501838291, 'n_estimators': 150}. Best is trial 21 with value: 0.6629019607843137.\u001b[0m\n",
      "/var/folders/1n/stf1qksj3jb8f79pgwq8cslc0000gn/T/ipykernel_33089/172233721.py:4: FutureWarning: suggest_uniform has been deprecated in v3.0.0. This feature will be removed in v6.0.0. See https://github.com/optuna/optuna/releases/tag/v3.0.0. Use :func:`~optuna.trial.Trial.suggest_float` instead.\n",
      "  min_weight_fraction_options = trial.suggest_uniform(\"min_weight_fraction_options\", 0,0.4)\n",
      "/var/folders/1n/stf1qksj3jb8f79pgwq8cslc0000gn/T/ipykernel_33089/1086670810.py:8: DataConversionWarning: A column-vector y was passed when a 1d array was expected. Please change the shape of y to (n_samples,), for example using ravel().\n",
      "  fit = model.fit(train_X, train_y)\n",
      "\u001b[32m[I 2023-03-12 13:20:53,341]\u001b[0m Trial 24 finished with value: 0.6572549019607843 and parameters: {'max_depth_options': 5, 'min_weight_fraction_options': 0.046098071905704495, 'n_estimators': 150}. Best is trial 21 with value: 0.6629019607843137.\u001b[0m\n",
      "/var/folders/1n/stf1qksj3jb8f79pgwq8cslc0000gn/T/ipykernel_33089/172233721.py:4: FutureWarning: suggest_uniform has been deprecated in v3.0.0. This feature will be removed in v6.0.0. See https://github.com/optuna/optuna/releases/tag/v3.0.0. Use :func:`~optuna.trial.Trial.suggest_float` instead.\n",
      "  min_weight_fraction_options = trial.suggest_uniform(\"min_weight_fraction_options\", 0,0.4)\n",
      "/var/folders/1n/stf1qksj3jb8f79pgwq8cslc0000gn/T/ipykernel_33089/1086670810.py:8: DataConversionWarning: A column-vector y was passed when a 1d array was expected. Please change the shape of y to (n_samples,), for example using ravel().\n",
      "  fit = model.fit(train_X, train_y)\n",
      "\u001b[32m[I 2023-03-12 13:20:55,389]\u001b[0m Trial 25 finished with value: 0.6550588235294118 and parameters: {'max_depth_options': 4, 'min_weight_fraction_options': 0.08592190631078696, 'n_estimators': 100}. Best is trial 21 with value: 0.6629019607843137.\u001b[0m\n",
      "/var/folders/1n/stf1qksj3jb8f79pgwq8cslc0000gn/T/ipykernel_33089/172233721.py:4: FutureWarning: suggest_uniform has been deprecated in v3.0.0. This feature will be removed in v6.0.0. See https://github.com/optuna/optuna/releases/tag/v3.0.0. Use :func:`~optuna.trial.Trial.suggest_float` instead.\n",
      "  min_weight_fraction_options = trial.suggest_uniform(\"min_weight_fraction_options\", 0,0.4)\n",
      "/var/folders/1n/stf1qksj3jb8f79pgwq8cslc0000gn/T/ipykernel_33089/1086670810.py:8: DataConversionWarning: A column-vector y was passed when a 1d array was expected. Please change the shape of y to (n_samples,), for example using ravel().\n",
      "  fit = model.fit(train_X, train_y)\n",
      "\u001b[32m[I 2023-03-12 13:20:59,296]\u001b[0m Trial 26 finished with value: 0.6578823529411765 and parameters: {'max_depth_options': 5, 'min_weight_fraction_options': 0.03037053612053718, 'n_estimators': 150}. Best is trial 21 with value: 0.6629019607843137.\u001b[0m\n"
     ]
    },
    {
     "name": "stderr",
     "output_type": "stream",
     "text": [
      "/var/folders/1n/stf1qksj3jb8f79pgwq8cslc0000gn/T/ipykernel_33089/172233721.py:4: FutureWarning: suggest_uniform has been deprecated in v3.0.0. This feature will be removed in v6.0.0. See https://github.com/optuna/optuna/releases/tag/v3.0.0. Use :func:`~optuna.trial.Trial.suggest_float` instead.\n",
      "  min_weight_fraction_options = trial.suggest_uniform(\"min_weight_fraction_options\", 0,0.4)\n",
      "/var/folders/1n/stf1qksj3jb8f79pgwq8cslc0000gn/T/ipykernel_33089/1086670810.py:8: DataConversionWarning: A column-vector y was passed when a 1d array was expected. Please change the shape of y to (n_samples,), for example using ravel().\n",
      "  fit = model.fit(train_X, train_y)\n",
      "\u001b[32m[I 2023-03-12 13:21:02,855]\u001b[0m Trial 27 finished with value: 0.6436078431372549 and parameters: {'max_depth_options': 3, 'min_weight_fraction_options': 0.06972724408230972, 'n_estimators': 200}. Best is trial 21 with value: 0.6629019607843137.\u001b[0m\n",
      "/var/folders/1n/stf1qksj3jb8f79pgwq8cslc0000gn/T/ipykernel_33089/172233721.py:4: FutureWarning: suggest_uniform has been deprecated in v3.0.0. This feature will be removed in v6.0.0. See https://github.com/optuna/optuna/releases/tag/v3.0.0. Use :func:`~optuna.trial.Trial.suggest_float` instead.\n",
      "  min_weight_fraction_options = trial.suggest_uniform(\"min_weight_fraction_options\", 0,0.4)\n",
      "/var/folders/1n/stf1qksj3jb8f79pgwq8cslc0000gn/T/ipykernel_33089/1086670810.py:8: DataConversionWarning: A column-vector y was passed when a 1d array was expected. Please change the shape of y to (n_samples,), for example using ravel().\n",
      "  fit = model.fit(train_X, train_y)\n",
      "\u001b[32m[I 2023-03-12 13:21:05,943]\u001b[0m Trial 28 finished with value: 0.651921568627451 and parameters: {'max_depth_options': 5, 'min_weight_fraction_options': 0.11492898365613129, 'n_estimators': 150}. Best is trial 21 with value: 0.6629019607843137.\u001b[0m\n",
      "/var/folders/1n/stf1qksj3jb8f79pgwq8cslc0000gn/T/ipykernel_33089/172233721.py:4: FutureWarning: suggest_uniform has been deprecated in v3.0.0. This feature will be removed in v6.0.0. See https://github.com/optuna/optuna/releases/tag/v3.0.0. Use :func:`~optuna.trial.Trial.suggest_float` instead.\n",
      "  min_weight_fraction_options = trial.suggest_uniform(\"min_weight_fraction_options\", 0,0.4)\n",
      "/var/folders/1n/stf1qksj3jb8f79pgwq8cslc0000gn/T/ipykernel_33089/1086670810.py:8: DataConversionWarning: A column-vector y was passed when a 1d array was expected. Please change the shape of y to (n_samples,), for example using ravel().\n",
      "  fit = model.fit(train_X, train_y)\n",
      "\u001b[32m[I 2023-03-12 13:21:07,361]\u001b[0m Trial 29 finished with value: 0.6178823529411764 and parameters: {'max_depth_options': 1, 'min_weight_fraction_options': 0.029081210907014737, 'n_estimators': 150}. Best is trial 21 with value: 0.6629019607843137.\u001b[0m\n",
      "/var/folders/1n/stf1qksj3jb8f79pgwq8cslc0000gn/T/ipykernel_33089/172233721.py:4: FutureWarning: suggest_uniform has been deprecated in v3.0.0. This feature will be removed in v6.0.0. See https://github.com/optuna/optuna/releases/tag/v3.0.0. Use :func:`~optuna.trial.Trial.suggest_float` instead.\n",
      "  min_weight_fraction_options = trial.suggest_uniform(\"min_weight_fraction_options\", 0,0.4)\n",
      "/var/folders/1n/stf1qksj3jb8f79pgwq8cslc0000gn/T/ipykernel_33089/1086670810.py:8: DataConversionWarning: A column-vector y was passed when a 1d array was expected. Please change the shape of y to (n_samples,), for example using ravel().\n",
      "  fit = model.fit(train_X, train_y)\n",
      "\u001b[32m[I 2023-03-12 13:21:09,463]\u001b[0m Trial 30 finished with value: 0.6533333333333333 and parameters: {'max_depth_options': 4, 'min_weight_fraction_options': 0.06152708104796138, 'n_estimators': 100}. Best is trial 21 with value: 0.6629019607843137.\u001b[0m\n",
      "/var/folders/1n/stf1qksj3jb8f79pgwq8cslc0000gn/T/ipykernel_33089/172233721.py:4: FutureWarning: suggest_uniform has been deprecated in v3.0.0. This feature will be removed in v6.0.0. See https://github.com/optuna/optuna/releases/tag/v3.0.0. Use :func:`~optuna.trial.Trial.suggest_float` instead.\n",
      "  min_weight_fraction_options = trial.suggest_uniform(\"min_weight_fraction_options\", 0,0.4)\n",
      "/var/folders/1n/stf1qksj3jb8f79pgwq8cslc0000gn/T/ipykernel_33089/1086670810.py:8: DataConversionWarning: A column-vector y was passed when a 1d array was expected. Please change the shape of y to (n_samples,), for example using ravel().\n",
      "  fit = model.fit(train_X, train_y)\n",
      "\u001b[32m[I 2023-03-12 13:21:13,584]\u001b[0m Trial 31 finished with value: 0.659607843137255 and parameters: {'max_depth_options': 5, 'min_weight_fraction_options': 0.014238635542829238, 'n_estimators': 150}. Best is trial 21 with value: 0.6629019607843137.\u001b[0m\n",
      "/var/folders/1n/stf1qksj3jb8f79pgwq8cslc0000gn/T/ipykernel_33089/172233721.py:4: FutureWarning: suggest_uniform has been deprecated in v3.0.0. This feature will be removed in v6.0.0. See https://github.com/optuna/optuna/releases/tag/v3.0.0. Use :func:`~optuna.trial.Trial.suggest_float` instead.\n",
      "  min_weight_fraction_options = trial.suggest_uniform(\"min_weight_fraction_options\", 0,0.4)\n",
      "/var/folders/1n/stf1qksj3jb8f79pgwq8cslc0000gn/T/ipykernel_33089/1086670810.py:8: DataConversionWarning: A column-vector y was passed when a 1d array was expected. Please change the shape of y to (n_samples,), for example using ravel().\n",
      "  fit = model.fit(train_X, train_y)\n",
      "\u001b[32m[I 2023-03-12 13:21:17,502]\u001b[0m Trial 32 finished with value: 0.6563137254901961 and parameters: {'max_depth_options': 5, 'min_weight_fraction_options': 0.026594175423830836, 'n_estimators': 150}. Best is trial 21 with value: 0.6629019607843137.\u001b[0m\n",
      "/var/folders/1n/stf1qksj3jb8f79pgwq8cslc0000gn/T/ipykernel_33089/172233721.py:4: FutureWarning: suggest_uniform has been deprecated in v3.0.0. This feature will be removed in v6.0.0. See https://github.com/optuna/optuna/releases/tag/v3.0.0. Use :func:`~optuna.trial.Trial.suggest_float` instead.\n",
      "  min_weight_fraction_options = trial.suggest_uniform(\"min_weight_fraction_options\", 0,0.4)\n",
      "/var/folders/1n/stf1qksj3jb8f79pgwq8cslc0000gn/T/ipykernel_33089/1086670810.py:8: DataConversionWarning: A column-vector y was passed when a 1d array was expected. Please change the shape of y to (n_samples,), for example using ravel().\n",
      "  fit = model.fit(train_X, train_y)\n",
      "\u001b[32m[I 2023-03-12 13:21:21,771]\u001b[0m Trial 33 finished with value: 0.6618039215686274 and parameters: {'max_depth_options': 5, 'min_weight_fraction_options': 0.0003033739850493303, 'n_estimators': 150}. Best is trial 21 with value: 0.6629019607843137.\u001b[0m\n",
      "/var/folders/1n/stf1qksj3jb8f79pgwq8cslc0000gn/T/ipykernel_33089/172233721.py:4: FutureWarning: suggest_uniform has been deprecated in v3.0.0. This feature will be removed in v6.0.0. See https://github.com/optuna/optuna/releases/tag/v3.0.0. Use :func:`~optuna.trial.Trial.suggest_float` instead.\n",
      "  min_weight_fraction_options = trial.suggest_uniform(\"min_weight_fraction_options\", 0,0.4)\n",
      "/var/folders/1n/stf1qksj3jb8f79pgwq8cslc0000gn/T/ipykernel_33089/1086670810.py:8: DataConversionWarning: A column-vector y was passed when a 1d array was expected. Please change the shape of y to (n_samples,), for example using ravel().\n",
      "  fit = model.fit(train_X, train_y)\n",
      "\u001b[32m[I 2023-03-12 13:21:24,197]\u001b[0m Trial 34 finished with value: 0.6547450980392157 and parameters: {'max_depth_options': 5, 'min_weight_fraction_options': 0.06059939234904578, 'n_estimators': 100}. Best is trial 21 with value: 0.6629019607843137.\u001b[0m\n",
      "/var/folders/1n/stf1qksj3jb8f79pgwq8cslc0000gn/T/ipykernel_33089/172233721.py:4: FutureWarning: suggest_uniform has been deprecated in v3.0.0. This feature will be removed in v6.0.0. See https://github.com/optuna/optuna/releases/tag/v3.0.0. Use :func:`~optuna.trial.Trial.suggest_float` instead.\n",
      "  min_weight_fraction_options = trial.suggest_uniform(\"min_weight_fraction_options\", 0,0.4)\n",
      "/var/folders/1n/stf1qksj3jb8f79pgwq8cslc0000gn/T/ipykernel_33089/1086670810.py:8: DataConversionWarning: A column-vector y was passed when a 1d array was expected. Please change the shape of y to (n_samples,), for example using ravel().\n",
      "  fit = model.fit(train_X, train_y)\n",
      "\u001b[32m[I 2023-03-12 13:21:28,006]\u001b[0m Trial 35 finished with value: 0.6577254901960784 and parameters: {'max_depth_options': 4, 'min_weight_fraction_options': 0.004907414732403977, 'n_estimators': 150}. Best is trial 21 with value: 0.6629019607843137.\u001b[0m\n"
     ]
    },
    {
     "name": "stderr",
     "output_type": "stream",
     "text": [
      "/var/folders/1n/stf1qksj3jb8f79pgwq8cslc0000gn/T/ipykernel_33089/172233721.py:4: FutureWarning: suggest_uniform has been deprecated in v3.0.0. This feature will be removed in v6.0.0. See https://github.com/optuna/optuna/releases/tag/v3.0.0. Use :func:`~optuna.trial.Trial.suggest_float` instead.\n",
      "  min_weight_fraction_options = trial.suggest_uniform(\"min_weight_fraction_options\", 0,0.4)\n",
      "/var/folders/1n/stf1qksj3jb8f79pgwq8cslc0000gn/T/ipykernel_33089/1086670810.py:8: DataConversionWarning: A column-vector y was passed when a 1d array was expected. Please change the shape of y to (n_samples,), for example using ravel().\n",
      "  fit = model.fit(train_X, train_y)\n",
      "\u001b[32m[I 2023-03-12 13:21:33,667]\u001b[0m Trial 36 finished with value: 0.6552156862745098 and parameters: {'max_depth_options': 5, 'min_weight_fraction_options': 0.036522333347455964, 'n_estimators': 200}. Best is trial 21 with value: 0.6629019607843137.\u001b[0m\n",
      "/var/folders/1n/stf1qksj3jb8f79pgwq8cslc0000gn/T/ipykernel_33089/172233721.py:4: FutureWarning: suggest_uniform has been deprecated in v3.0.0. This feature will be removed in v6.0.0. See https://github.com/optuna/optuna/releases/tag/v3.0.0. Use :func:`~optuna.trial.Trial.suggest_float` instead.\n",
      "  min_weight_fraction_options = trial.suggest_uniform(\"min_weight_fraction_options\", 0,0.4)\n",
      "/var/folders/1n/stf1qksj3jb8f79pgwq8cslc0000gn/T/ipykernel_33089/1086670810.py:8: DataConversionWarning: A column-vector y was passed when a 1d array was expected. Please change the shape of y to (n_samples,), for example using ravel().\n",
      "  fit = model.fit(train_X, train_y)\n",
      "\u001b[32m[I 2023-03-12 13:21:36,858]\u001b[0m Trial 37 finished with value: 0.6555294117647059 and parameters: {'max_depth_options': 4, 'min_weight_fraction_options': 0.08057030482535477, 'n_estimators': 150}. Best is trial 21 with value: 0.6629019607843137.\u001b[0m\n",
      "/var/folders/1n/stf1qksj3jb8f79pgwq8cslc0000gn/T/ipykernel_33089/172233721.py:4: FutureWarning: suggest_uniform has been deprecated in v3.0.0. This feature will be removed in v6.0.0. See https://github.com/optuna/optuna/releases/tag/v3.0.0. Use :func:`~optuna.trial.Trial.suggest_float` instead.\n",
      "  min_weight_fraction_options = trial.suggest_uniform(\"min_weight_fraction_options\", 0,0.4)\n",
      "/var/folders/1n/stf1qksj3jb8f79pgwq8cslc0000gn/T/ipykernel_33089/1086670810.py:8: DataConversionWarning: A column-vector y was passed when a 1d array was expected. Please change the shape of y to (n_samples,), for example using ravel().\n",
      "  fit = model.fit(train_X, train_y)\n",
      "\u001b[32m[I 2023-03-12 13:21:39,315]\u001b[0m Trial 38 finished with value: 0.6533333333333333 and parameters: {'max_depth_options': 5, 'min_weight_fraction_options': 0.05222197752033801, 'n_estimators': 100}. Best is trial 21 with value: 0.6629019607843137.\u001b[0m\n",
      "/var/folders/1n/stf1qksj3jb8f79pgwq8cslc0000gn/T/ipykernel_33089/172233721.py:4: FutureWarning: suggest_uniform has been deprecated in v3.0.0. This feature will be removed in v6.0.0. See https://github.com/optuna/optuna/releases/tag/v3.0.0. Use :func:`~optuna.trial.Trial.suggest_float` instead.\n",
      "  min_weight_fraction_options = trial.suggest_uniform(\"min_weight_fraction_options\", 0,0.4)\n",
      "/var/folders/1n/stf1qksj3jb8f79pgwq8cslc0000gn/T/ipykernel_33089/1086670810.py:8: DataConversionWarning: A column-vector y was passed when a 1d array was expected. Please change the shape of y to (n_samples,), for example using ravel().\n",
      "  fit = model.fit(train_X, train_y)\n",
      "\u001b[32m[I 2023-03-12 13:21:42,119]\u001b[0m Trial 39 finished with value: 0.6401568627450981 and parameters: {'max_depth_options': 3, 'min_weight_fraction_options': 0.02256820951410217, 'n_estimators': 150}. Best is trial 21 with value: 0.6629019607843137.\u001b[0m\n",
      "/var/folders/1n/stf1qksj3jb8f79pgwq8cslc0000gn/T/ipykernel_33089/172233721.py:4: FutureWarning: suggest_uniform has been deprecated in v3.0.0. This feature will be removed in v6.0.0. See https://github.com/optuna/optuna/releases/tag/v3.0.0. Use :func:`~optuna.trial.Trial.suggest_float` instead.\n",
      "  min_weight_fraction_options = trial.suggest_uniform(\"min_weight_fraction_options\", 0,0.4)\n",
      "/var/folders/1n/stf1qksj3jb8f79pgwq8cslc0000gn/T/ipykernel_33089/1086670810.py:8: DataConversionWarning: A column-vector y was passed when a 1d array was expected. Please change the shape of y to (n_samples,), for example using ravel().\n",
      "  fit = model.fit(train_X, train_y)\n",
      "\u001b[32m[I 2023-03-12 13:21:44,794]\u001b[0m Trial 40 finished with value: 0.6334117647058823 and parameters: {'max_depth_options': 2, 'min_weight_fraction_options': 0.09553651092629525, 'n_estimators': 200}. Best is trial 21 with value: 0.6629019607843137.\u001b[0m\n",
      "/var/folders/1n/stf1qksj3jb8f79pgwq8cslc0000gn/T/ipykernel_33089/172233721.py:4: FutureWarning: suggest_uniform has been deprecated in v3.0.0. This feature will be removed in v6.0.0. See https://github.com/optuna/optuna/releases/tag/v3.0.0. Use :func:`~optuna.trial.Trial.suggest_float` instead.\n",
      "  min_weight_fraction_options = trial.suggest_uniform(\"min_weight_fraction_options\", 0,0.4)\n",
      "/var/folders/1n/stf1qksj3jb8f79pgwq8cslc0000gn/T/ipykernel_33089/1086670810.py:8: DataConversionWarning: A column-vector y was passed when a 1d array was expected. Please change the shape of y to (n_samples,), for example using ravel().\n",
      "  fit = model.fit(train_X, train_y)\n",
      "\u001b[32m[I 2023-03-12 13:21:48,845]\u001b[0m Trial 41 finished with value: 0.6583529411764706 and parameters: {'max_depth_options': 5, 'min_weight_fraction_options': 0.019290853141917075, 'n_estimators': 150}. Best is trial 21 with value: 0.6629019607843137.\u001b[0m\n",
      "/var/folders/1n/stf1qksj3jb8f79pgwq8cslc0000gn/T/ipykernel_33089/172233721.py:4: FutureWarning: suggest_uniform has been deprecated in v3.0.0. This feature will be removed in v6.0.0. See https://github.com/optuna/optuna/releases/tag/v3.0.0. Use :func:`~optuna.trial.Trial.suggest_float` instead.\n",
      "  min_weight_fraction_options = trial.suggest_uniform(\"min_weight_fraction_options\", 0,0.4)\n",
      "/var/folders/1n/stf1qksj3jb8f79pgwq8cslc0000gn/T/ipykernel_33089/1086670810.py:8: DataConversionWarning: A column-vector y was passed when a 1d array was expected. Please change the shape of y to (n_samples,), for example using ravel().\n",
      "  fit = model.fit(train_X, train_y)\n",
      "\u001b[32m[I 2023-03-12 13:21:53,114]\u001b[0m Trial 42 finished with value: 0.6630588235294118 and parameters: {'max_depth_options': 5, 'min_weight_fraction_options': 0.0020952848886019093, 'n_estimators': 150}. Best is trial 42 with value: 0.6630588235294118.\u001b[0m\n",
      "/var/folders/1n/stf1qksj3jb8f79pgwq8cslc0000gn/T/ipykernel_33089/172233721.py:4: FutureWarning: suggest_uniform has been deprecated in v3.0.0. This feature will be removed in v6.0.0. See https://github.com/optuna/optuna/releases/tag/v3.0.0. Use :func:`~optuna.trial.Trial.suggest_float` instead.\n",
      "  min_weight_fraction_options = trial.suggest_uniform(\"min_weight_fraction_options\", 0,0.4)\n",
      "/var/folders/1n/stf1qksj3jb8f79pgwq8cslc0000gn/T/ipykernel_33089/1086670810.py:8: DataConversionWarning: A column-vector y was passed when a 1d array was expected. Please change the shape of y to (n_samples,), for example using ravel().\n",
      "  fit = model.fit(train_X, train_y)\n",
      "\u001b[32m[I 2023-03-12 13:21:57,398]\u001b[0m Trial 43 finished with value: 0.6621176470588235 and parameters: {'max_depth_options': 5, 'min_weight_fraction_options': 0.001210242141522671, 'n_estimators': 150}. Best is trial 42 with value: 0.6630588235294118.\u001b[0m\n",
      "/var/folders/1n/stf1qksj3jb8f79pgwq8cslc0000gn/T/ipykernel_33089/172233721.py:4: FutureWarning: suggest_uniform has been deprecated in v3.0.0. This feature will be removed in v6.0.0. See https://github.com/optuna/optuna/releases/tag/v3.0.0. Use :func:`~optuna.trial.Trial.suggest_float` instead.\n",
      "  min_weight_fraction_options = trial.suggest_uniform(\"min_weight_fraction_options\", 0,0.4)\n",
      "/var/folders/1n/stf1qksj3jb8f79pgwq8cslc0000gn/T/ipykernel_33089/1086670810.py:8: DataConversionWarning: A column-vector y was passed when a 1d array was expected. Please change the shape of y to (n_samples,), for example using ravel().\n",
      "  fit = model.fit(train_X, train_y)\n",
      "\u001b[32m[I 2023-03-12 13:22:01,686]\u001b[0m Trial 44 finished with value: 0.6597647058823529 and parameters: {'max_depth_options': 5, 'min_weight_fraction_options': 0.0041194186289439765, 'n_estimators': 150}. Best is trial 42 with value: 0.6630588235294118.\u001b[0m\n"
     ]
    },
    {
     "name": "stderr",
     "output_type": "stream",
     "text": [
      "/var/folders/1n/stf1qksj3jb8f79pgwq8cslc0000gn/T/ipykernel_33089/172233721.py:4: FutureWarning: suggest_uniform has been deprecated in v3.0.0. This feature will be removed in v6.0.0. See https://github.com/optuna/optuna/releases/tag/v3.0.0. Use :func:`~optuna.trial.Trial.suggest_float` instead.\n",
      "  min_weight_fraction_options = trial.suggest_uniform(\"min_weight_fraction_options\", 0,0.4)\n",
      "/var/folders/1n/stf1qksj3jb8f79pgwq8cslc0000gn/T/ipykernel_33089/1086670810.py:8: DataConversionWarning: A column-vector y was passed when a 1d array was expected. Please change the shape of y to (n_samples,), for example using ravel().\n",
      "  fit = model.fit(train_X, train_y)\n",
      "\u001b[32m[I 2023-03-12 13:22:04,812]\u001b[0m Trial 45 finished with value: 0.652235294117647 and parameters: {'max_depth_options': 4, 'min_weight_fraction_options': 0.07047230968284193, 'n_estimators': 150}. Best is trial 42 with value: 0.6630588235294118.\u001b[0m\n",
      "/var/folders/1n/stf1qksj3jb8f79pgwq8cslc0000gn/T/ipykernel_33089/172233721.py:4: FutureWarning: suggest_uniform has been deprecated in v3.0.0. This feature will be removed in v6.0.0. See https://github.com/optuna/optuna/releases/tag/v3.0.0. Use :func:`~optuna.trial.Trial.suggest_float` instead.\n",
      "  min_weight_fraction_options = trial.suggest_uniform(\"min_weight_fraction_options\", 0,0.4)\n",
      "/var/folders/1n/stf1qksj3jb8f79pgwq8cslc0000gn/T/ipykernel_33089/1086670810.py:8: DataConversionWarning: A column-vector y was passed when a 1d array was expected. Please change the shape of y to (n_samples,), for example using ravel().\n",
      "  fit = model.fit(train_X, train_y)\n",
      "\u001b[32m[I 2023-03-12 13:22:08,462]\u001b[0m Trial 46 finished with value: 0.6567843137254902 and parameters: {'max_depth_options': 5, 'min_weight_fraction_options': 0.04840443826274589, 'n_estimators': 150}. Best is trial 42 with value: 0.6630588235294118.\u001b[0m\n",
      "/var/folders/1n/stf1qksj3jb8f79pgwq8cslc0000gn/T/ipykernel_33089/172233721.py:4: FutureWarning: suggest_uniform has been deprecated in v3.0.0. This feature will be removed in v6.0.0. See https://github.com/optuna/optuna/releases/tag/v3.0.0. Use :func:`~optuna.trial.Trial.suggest_float` instead.\n",
      "  min_weight_fraction_options = trial.suggest_uniform(\"min_weight_fraction_options\", 0,0.4)\n",
      "/var/folders/1n/stf1qksj3jb8f79pgwq8cslc0000gn/T/ipykernel_33089/1086670810.py:8: DataConversionWarning: A column-vector y was passed when a 1d array was expected. Please change the shape of y to (n_samples,), for example using ravel().\n",
      "  fit = model.fit(train_X, train_y)\n",
      "\u001b[32m[I 2023-03-12 13:22:09,414]\u001b[0m Trial 47 finished with value: 0.6186666666666667 and parameters: {'max_depth_options': 1, 'min_weight_fraction_options': 0.027370013480772046, 'n_estimators': 100}. Best is trial 42 with value: 0.6630588235294118.\u001b[0m\n",
      "/var/folders/1n/stf1qksj3jb8f79pgwq8cslc0000gn/T/ipykernel_33089/172233721.py:4: FutureWarning: suggest_uniform has been deprecated in v3.0.0. This feature will be removed in v6.0.0. See https://github.com/optuna/optuna/releases/tag/v3.0.0. Use :func:`~optuna.trial.Trial.suggest_float` instead.\n",
      "  min_weight_fraction_options = trial.suggest_uniform(\"min_weight_fraction_options\", 0,0.4)\n",
      "/var/folders/1n/stf1qksj3jb8f79pgwq8cslc0000gn/T/ipykernel_33089/1086670810.py:8: DataConversionWarning: A column-vector y was passed when a 1d array was expected. Please change the shape of y to (n_samples,), for example using ravel().\n",
      "  fit = model.fit(train_X, train_y)\n",
      "\u001b[32m[I 2023-03-12 13:22:13,673]\u001b[0m Trial 48 finished with value: 0.6619607843137255 and parameters: {'max_depth_options': 5, 'min_weight_fraction_options': 0.0026807742681500425, 'n_estimators': 150}. Best is trial 42 with value: 0.6630588235294118.\u001b[0m\n",
      "/var/folders/1n/stf1qksj3jb8f79pgwq8cslc0000gn/T/ipykernel_33089/172233721.py:4: FutureWarning: suggest_uniform has been deprecated in v3.0.0. This feature will be removed in v6.0.0. See https://github.com/optuna/optuna/releases/tag/v3.0.0. Use :func:`~optuna.trial.Trial.suggest_float` instead.\n",
      "  min_weight_fraction_options = trial.suggest_uniform(\"min_weight_fraction_options\", 0,0.4)\n",
      "/var/folders/1n/stf1qksj3jb8f79pgwq8cslc0000gn/T/ipykernel_33089/1086670810.py:8: DataConversionWarning: A column-vector y was passed when a 1d array was expected. Please change the shape of y to (n_samples,), for example using ravel().\n",
      "  fit = model.fit(train_X, train_y)\n",
      "\u001b[32m[I 2023-03-12 13:22:18,033]\u001b[0m Trial 49 finished with value: 0.6525490196078432 and parameters: {'max_depth_options': 4, 'min_weight_fraction_options': 0.04515412260850922, 'n_estimators': 200}. Best is trial 42 with value: 0.6630588235294118.\u001b[0m\n"
     ]
    },
    {
     "name": "stdout",
     "output_type": "stream",
     "text": [
      "Best params:  {'max_depth_options': 5, 'min_weight_fraction_options': 0.0020952848886019093, 'n_estimators': 150}\n"
     ]
    }
   ],
   "source": [
    "def id_best_hyperparams(trial):\n",
    "    # define hyperparameter space\n",
    "    max_depth_options = trial.suggest_int('max_depth_options', 1, 5)\n",
    "    min_weight_fraction_options = trial.suggest_uniform(\"min_weight_fraction_options\", 0,0.4)\n",
    "    n_estimator_options = trial.suggest_int('n_estimators', 50, 200, 50)\n",
    "    \n",
    "    # get the score for the hyperparameters chosen\n",
    "    score = train_evaluate_hyperparameters(max_depth=max_depth_options, min_weight_fraction_leaf=min_weight_fraction_options,\n",
    "                                          n_estimators=n_estimator_options)\n",
    "    \n",
    "    return score\n",
    "\n",
    "study = optuna.create_study(sampler=optuna.samplers.TPESampler(), direction='maximize')\n",
    "study.optimize(id_best_hyperparams, n_trials=50)\n",
    "print('Best params: ', study.best_params)"
   ]
  },
  {
   "cell_type": "markdown",
   "id": "ba815a3f",
   "metadata": {},
   "source": [
    "Let's define a function that can optimize hyperparameters for any model architecture we might be interested in."
   ]
  },
  {
   "cell_type": "code",
   "execution_count": null,
   "id": "ffb7958e",
   "metadata": {},
   "outputs": [],
   "source": []
  },
  {
   "cell_type": "code",
   "execution_count": null,
   "id": "9b0ea26e",
   "metadata": {},
   "outputs": [],
   "source": []
  },
  {
   "cell_type": "code",
   "execution_count": null,
   "id": "5ec793d6",
   "metadata": {},
   "outputs": [],
   "source": []
  },
  {
   "cell_type": "code",
   "execution_count": null,
   "id": "37645fd5",
   "metadata": {},
   "outputs": [],
   "source": []
  },
  {
   "cell_type": "code",
   "execution_count": null,
   "id": "442faf32",
   "metadata": {},
   "outputs": [],
   "source": []
  },
  {
   "cell_type": "code",
   "execution_count": null,
   "id": "9f109406",
   "metadata": {},
   "outputs": [],
   "source": []
  }
 ],
 "metadata": {
  "kernelspec": {
   "display_name": "Python 3 (ipykernel)",
   "language": "python",
   "name": "python3"
  },
  "language_info": {
   "codemirror_mode": {
    "name": "ipython",
    "version": 3
   },
   "file_extension": ".py",
   "mimetype": "text/x-python",
   "name": "python",
   "nbconvert_exporter": "python",
   "pygments_lexer": "ipython3",
   "version": "3.10.9"
  }
 },
 "nbformat": 4,
 "nbformat_minor": 5
}
