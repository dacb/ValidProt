{
 "cells": [
  {
   "cell_type": "code",
   "execution_count": 4,
   "metadata": {},
   "outputs": [],
   "source": [
    "from pypdb import *"
   ]
  },
  {
   "cell_type": "code",
   "execution_count": 7,
   "metadata": {},
   "outputs": [
    {
     "name": "stdout",
     "output_type": "stream",
     "text": [
      "{'query_id': 'c5a23de2-9ed6-4f05-92cd-3df4baf78f38', 'result_type': 'polymer_entity', 'total_count': 22, 'result_set': [{'identifier': '2QXX_1', 'score': 1.0, 'services': [{'service_type': 'sequence', 'nodes': [{'node_id': 14375, 'original_score': 304.0, 'norm_score': 1.0, 'match_context': [{'sequence_identity': 0.79, 'evalue': 8.995e-94, 'bitscore': 304, 'alignment_length': 186, 'mismatches': 39, 'gaps_opened': 0, 'query_beg': 1, 'query_end': 186, 'subject_beg': 1, 'subject_end': 186, 'query_length': 192, 'subject_length': 190, 'query_aligned_seq': 'MLLSDRDLVSEIKSGDLSLEPFEPALLQPSSIDVRLDRFFRVFNNHLYTHIDPAEQQDDLTAEVEVTDGEAFVLHPGEFVLASTLEVITLGDQLAGRLEGKSSLGRLGLLTHSTAGFIDPGFSGHVTLELSNVANLPIKLWPGMKIGQLCIFRLSSPAEHPYGSAVYGSRYQGQRGPTPSRSAQNF', 'subject_aligned_seq': 'MLLSDRDLRAEISSGRLGIDPFDDTLVQPSSIDVRLDCLFRVFNNTRYTHIDPAKQQDELTSLVQPVDGEPFVLHPGEFVLGSTLELFTLPDNLAGRLEGKSSLGRLGLLTHSTAGFIDPGFSGHITLELSNVANLPITLWPGMKIGQLCMLRLTSPSEHPYGSSRAGSKYQGQRGPTPSRSYQNF'}]}]}]}, {'identifier': '4A6A_1', 'score': 0.9923076923076923, 'services': [{'service_type': 'sequence', 'nodes': [{'node_id': 14375, 'original_score': 302.0, 'norm_score': 0.9923076923076923, 'match_context': [{'sequence_identity': 0.784, 'evalue': 3.176e-93, 'bitscore': 302, 'alignment_length': 186, 'mismatches': 40, 'gaps_opened': 0, 'query_beg': 1, 'query_end': 186, 'subject_beg': 1, 'subject_end': 186, 'query_length': 192, 'subject_length': 190, 'query_aligned_seq': 'MLLSDRDLVSEIKSGDLSLEPFEPALLQPSSIDVRLDRFFRVFNNHLYTHIDPAEQQDDLTAEVEVTDGEAFVLHPGEFVLASTLEVITLGDQLAGRLEGKSSLGRLGLLTHSTAGFIDPGFSGHVTLELSNVANLPIKLWPGMKIGQLCIFRLSSPAEHPYGSAVYGSRYQGQRGPTPSRSAQNF', 'subject_aligned_seq': 'MLLSDRDLRAEISSGRLGIDPFDDTLVQPSSIDVRLDCLFRVFNNTRYTHIDPAKQQDELTSLVQPVDGEPFVLHPGEFVLGSTLELFTLPDNLAGRLEGKSSLGRLGLLTHSTVGFIDPGFSGHITLELSNVANLPITLWPGMKIGQLCMLRLTSPSEHPYGSSRAGSKYQGQRGPTPSRSYQNF'}]}]}]}, {'identifier': '2QLP_1', 'score': 0.8423076923076923, 'services': [{'service_type': 'sequence', 'nodes': [{'node_id': 14375, 'original_score': 263.0, 'norm_score': 0.8423076923076923, 'match_context': [{'sequence_identity': 0.788, 'evalue': 1.149e-79, 'bitscore': 263, 'alignment_length': 161, 'mismatches': 34, 'gaps_opened': 0, 'query_beg': 1, 'query_end': 161, 'subject_beg': 1, 'subject_end': 161, 'query_length': 192, 'subject_length': 161, 'query_aligned_seq': 'MLLSDRDLVSEIKSGDLSLEPFEPALLQPSSIDVRLDRFFRVFNNHLYTHIDPAEQQDDLTAEVEVTDGEAFVLHPGEFVLASTLEVITLGDQLAGRLEGKSSLGRLGLLTHSTAGFIDPGFSGHVTLELSNVANLPIKLWPGMKIGQLCIFRLSSPAEHP', 'subject_aligned_seq': 'MLLSDRDLRAEISSGRLGIDPFDDTLVQPSSIDVRLDCLFRVFNNTRYTHIDPAKQQDELTSLVQPVDGEPFVLHPGEFVLGSTLELFTLPDNLAGRLEGKSSLGRLGLLTHSTAGFIDPGFSGHITLELSNVANLPITLWPGMKIGQLCMLRLTSPSEHP'}]}]}]}, {'identifier': '1XS1_1', 'score': 0.36538461538461536, 'services': [{'service_type': 'sequence', 'nodes': [{'node_id': 14375, 'original_score': 139.0, 'norm_score': 0.36538461538461536, 'match_context': [{'sequence_identity': 0.431, 'evalue': 1.37e-36, 'bitscore': 139, 'alignment_length': 190, 'mismatches': 98, 'gaps_opened': 3, 'query_beg': 1, 'query_end': 181, 'subject_beg': 1, 'subject_end': 189, 'query_length': 192, 'subject_length': 193, 'query_aligned_seq': 'MLLSDRDLVSEIKSGDLSLEPFEPA-LLQPSSIDVRLDRFFRVFNNHLYTHIDPAEQQDDLTA--------EVEVTDGEAFVLHPGEFVLASTLEVITLGDQLAGRLEGKSSLGRLGLLTHSTAGFIDPGFSGHVTLELSNVANLPIKLWPGMKIGQLCIFRLSSPAEHPYGSAVYGSRYQGQRGPTPSR', 'subject_aligned_seq': 'MRLCDRDIEAWLDEGRLSINPRPPVERINGATVDVRLGNKFRTFRGHTAAFIDLSGPKDEVSAALDRVMSDEIVLDEGEAFYLHPGELALAVTLESVTLPADLVGWLDGRSSLARLGLMVHVTAHRIDPGWSGCIVLEFYNSGKLPLALRPGMLIGALSFEPLSGPAVRPY-NRREDAKYRNQQGAVASR'}]}]}]}, {'identifier': '2V9X_1', 'score': 0.36153846153846153, 'services': [{'service_type': 'sequence', 'nodes': [{'node_id': 14375, 'original_score': 138.0, 'norm_score': 0.36153846153846153, 'match_context': [{'sequence_identity': 0.426, 'evalue': 3.514e-36, 'bitscore': 138, 'alignment_length': 190, 'mismatches': 99, 'gaps_opened': 3, 'query_beg': 1, 'query_end': 181, 'subject_beg': 1, 'subject_end': 189, 'query_length': 192, 'subject_length': 193, 'query_aligned_seq': 'MLLSDRDLVSEIKSGDLSLEPFEPA-LLQPSSIDVRLDRFFRVFNNHLYTHIDPAEQQDDLTA--------EVEVTDGEAFVLHPGEFVLASTLEVITLGDQLAGRLEGKSSLGRLGLLTHSTAGFIDPGFSGHVTLELSNVANLPIKLWPGMKIGQLCIFRLSSPAEHPYGSAVYGSRYQGQRGPTPSR', 'subject_aligned_seq': 'MRLCDRDIEAWLDEGRLSINPRPPVERINGATVDVRLGNKFRTFRGHTAAFIDLSGPKDEVSAALDRVMSDEIVLDEGEAFYLHPGELALAVTLESVTLPADLVGWLDGRSSLARLGLMVHVTAHRIDPGWSGCIVLDFYNSGKLPLALRPGMLIGALSFEPLSGPAVRPY-NRREDAKYRNQQGAVASR'}]}]}]}, {'identifier': '1XS4_1', 'score': 0.3576923076923077, 'services': [{'service_type': 'sequence', 'nodes': [{'node_id': 14375, 'original_score': 137.0, 'norm_score': 0.3576923076923077, 'match_context': [{'sequence_identity': 0.426, 'evalue': 9.012e-36, 'bitscore': 137, 'alignment_length': 190, 'mismatches': 99, 'gaps_opened': 3, 'query_beg': 1, 'query_end': 181, 'subject_beg': 1, 'subject_end': 189, 'query_length': 192, 'subject_length': 193, 'query_aligned_seq': 'MLLSDRDLVSEIKSGDLSLEPFEPA-LLQPSSIDVRLDRFFRVFNNHLYTHIDPAEQQDDLTA--------EVEVTDGEAFVLHPGEFVLASTLEVITLGDQLAGRLEGKSSLGRLGLLTHSTAGFIDPGFSGHVTLELSNVANLPIKLWPGMKIGQLCIFRLSSPAEHPYGSAVYGSRYQGQRGPTPSR', 'subject_aligned_seq': 'MRLCDRDIEAWLDEGRLSINPRPPVERINGATVDVRLGNKFRTFRGHTAAFIDLSGPKDEVSAALDRVMSDEIVLDEGEAFYLHPGELALAVTLESVTLPADLVGWLDGRSSLARLGLMVHVTAHRIDPGWSGCIVLAFYNSGKLPLALRPGMLIGALSFEPLSGPAVRPY-NRREDAKYRNQQGAVASR'}]}]}]}, {'identifier': '1XS6_1', 'score': 0.3576923076923077, 'services': [{'service_type': 'sequence', 'nodes': [{'node_id': 14375, 'original_score': 137.0, 'norm_score': 0.3576923076923077, 'match_context': [{'sequence_identity': 0.426, 'evalue': 9.012e-36, 'bitscore': 137, 'alignment_length': 190, 'mismatches': 99, 'gaps_opened': 3, 'query_beg': 1, 'query_end': 181, 'subject_beg': 1, 'subject_end': 189, 'query_length': 192, 'subject_length': 193, 'query_aligned_seq': 'MLLSDRDLVSEIKSGDLSLEPFEPA-LLQPSSIDVRLDRFFRVFNNHLYTHIDPAEQQDDLTA--------EVEVTDGEAFVLHPGEFVLASTLEVITLGDQLAGRLEGKSSLGRLGLLTHSTAGFIDPGFSGHVTLELSNVANLPIKLWPGMKIGQLCIFRLSSPAEHPYGSAVYGSRYQGQRGPTPSR', 'subject_aligned_seq': 'MRLCDRDIEAWLDEGRLSINPRPPVERINGATVDVRLGNKFRTFRGHTAAFIDLSGPKDEVSAALDRVMSDEIVLDEGEAFYLHPGELALAVTLESVTLPADLVGWLDGRSSLARLGLMVHVTAHRIDPGWSGCIVLAFYNSGKLPLALRPGMLIGALSFEPLSGPAVRPY-NRREDAKYRNQQGAVASR'}]}]}]}, {'identifier': '2J4Q_1', 'score': 0.3576923076923077, 'services': [{'service_type': 'sequence', 'nodes': [{'node_id': 14375, 'original_score': 137.0, 'norm_score': 0.3576923076923077, 'match_context': [{'sequence_identity': 0.426, 'evalue': 9.012e-36, 'bitscore': 137, 'alignment_length': 190, 'mismatches': 99, 'gaps_opened': 3, 'query_beg': 1, 'query_end': 181, 'subject_beg': 1, 'subject_end': 189, 'query_length': 192, 'subject_length': 193, 'query_aligned_seq': 'MLLSDRDLVSEIKSGDLSLEPFEPA-LLQPSSIDVRLDRFFRVFNNHLYTHIDPAEQQDDLTA--------EVEVTDGEAFVLHPGEFVLASTLEVITLGDQLAGRLEGKSSLGRLGLLTHSTAGFIDPGFSGHVTLELSNVANLPIKLWPGMKIGQLCIFRLSSPAEHPYGSAVYGSRYQGQRGPTPSR', 'subject_aligned_seq': 'MRLCDRDIEAWLDEGRLSINPRPPVERINGATVDVRLGNKFRTFRGHTAAFIDLSGPKDEVSAALDRVMSDEIVLDEGEAFYLHPGELALAVTLESVTLPADLVGWLDGRSSLARLGLMVHVTAHRIDPGWSGCIVLAFYNSGKLPLALRPGMLIGALSFEPLSGPAVRPY-NRREDAKYRNQQGAVASR'}]}]}]}, {'identifier': '2J4H_1', 'score': 0.35, 'services': [{'service_type': 'sequence', 'nodes': [{'node_id': 14375, 'original_score': 135.0, 'norm_score': 0.35, 'match_context': [{'sequence_identity': 0.426, 'evalue': 3.163e-35, 'bitscore': 135, 'alignment_length': 190, 'mismatches': 99, 'gaps_opened': 3, 'query_beg': 1, 'query_end': 181, 'subject_beg': 1, 'subject_end': 189, 'query_length': 192, 'subject_length': 193, 'query_aligned_seq': 'MLLSDRDLVSEIKSGDLSLEPFEPA-LLQPSSIDVRLDRFFRVFNNHLYTHIDPAEQQDDLTA--------EVEVTDGEAFVLHPGEFVLASTLEVITLGDQLAGRLEGKSSLGRLGLLTHSTAGFIDPGFSGHVTLELSNVANLPIKLWPGMKIGQLCIFRLSSPAEHPYGSAVYGSRYQGQRGPTPSR', 'subject_aligned_seq': 'MRLCDRDIEAWLDEGRLSINPRPPVERINGATVDVRLGNKFRTFRGHTAAFIDLSGPKDEVSAALDRVMSDEIVLDEGEAFYLHPGELALAVTLESVTLPADLVGWLDGRSSLARLGLMVAVTAHRIDPGWSGCIVLEFYNSGKLPLALRPGMLIGALSFEPLSGPAVRPY-NRREDAKYRNQQGAVASR'}]}]}]}, {'identifier': '4XJC_1', 'score': 0.2, 'services': [{'service_type': 'sequence', 'nodes': [{'node_id': 14375, 'original_score': 96.0, 'norm_score': 0.2, 'match_context': [{'sequence_identity': 0.338, 'evalue': 6.584e-22, 'bitscore': 96, 'alignment_length': 183, 'mismatches': 105, 'gaps_opened': 4, 'query_beg': 1, 'query_end': 180, 'subject_beg': 1, 'subject_end': 170, 'query_length': 192, 'subject_length': 177, 'query_aligned_seq': 'MLLSDRDLVSEIKSGDLSLEPFEPALLQPSSIDVRLDRFFRVFNNHLYTHID---PAEQQDDLTAEVEVTDGEAFVLHPGEFVLASTLEVITLGDQLAGRLEGKSSLGRLGLLTHSTAGFIDPGFSGHVTLELSNVANLPIKLWPGMKIGQLCIFRLSSPAEHPYGSAVYGSRYQGQRGPTPS', 'subject_aligned_seq': 'MILSGKTISEKLTEKELEITPLTEEQIQPASVDLRLGPHFVTIDDSKEAVISFERPIRYREWTTSD------ETIVLPPHTFLLATTMETVKLPNHLTAFVEGRSSVGRLGLFIQN-AGWVDPGFNGQITLELFNANRLPIELPIGRRICQLVFAEVTGEV------APYQGKYLFQKGATMS'}]}]}]}]}\n"
     ]
    }
   ],
   "source": [
    "q = Query(\"MLLSDRDLVSEIKSGDLSLEPFEPALLQPSSIDVRLDRFFRVFNNHLYTHIDPAEQQDDLTAEVEVTDGEAFVLHPGEFVLASTLEVITLGDQLAGRLEGKSSLGRLGLLTHSTAGFIDPGFSGHVTLELSNVANLPIKLWPGMKIGQLCIFRLSSPAEHPYGSAVYGSRYQGQRGPTPSRSAQNFRLWPTS\", \n",
    "          query_type=\"sequence\", \n",
    "          return_type=\"polymer_entity\")\n",
    "\n",
    "print(q.search())"
   ]
  }
 ],
 "metadata": {
  "kernelspec": {
   "display_name": "base",
   "language": "python",
   "name": "python3"
  },
  "language_info": {
   "codemirror_mode": {
    "name": "ipython",
    "version": 3
   },
   "file_extension": ".py",
   "mimetype": "text/x-python",
   "name": "python",
   "nbconvert_exporter": "python",
   "pygments_lexer": "ipython3",
   "version": "3.9.15"
  },
  "orig_nbformat": 4,
  "vscode": {
   "interpreter": {
    "hash": "051408e384b092e648d9b352dd01f304a430893716b899343ccdbd06be80db1f"
   }
  }
 },
 "nbformat": 4,
 "nbformat_minor": 2
}
