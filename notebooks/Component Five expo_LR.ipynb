{
 "cells": [
  {
   "cell_type": "code",
   "execution_count": 4,
   "id": "c9477b4a",
   "metadata": {},
   "outputs": [],
   "source": [
    "import matplotlib.pyplot as plt\n",
    "import seaborn as sns\n",
    "import pandas as pd\n",
    "import numpy as np\n",
    "import os\n",
    "import scipy.stats\n",
    "import sklearn.preprocessing\n",
    "import sklearn.model_selection\n",
    "import sklearn.neighbors\n",
    "import duckdb\n",
    "import unittest"
   ]
  },
  {
   "cell_type": "markdown",
   "id": "4c7ada06",
   "metadata": {},
   "source": [
    "s5.0_relation.py\n",
    "\n",
    "Params: \n",
    "\n",
    "Inputs: Pandas Dataframe containing Pfam return data. Includes quantitative features (ID, some metric of percent similarlity) and string of amino acid sequence.\n",
    "\n",
    "Outputs: Quantitative functional similarlity metric.\n",
    "\n",
    "Metrics:"
   ]
  },
  {
   "cell_type": "markdown",
   "id": "e11d153d",
   "metadata": {},
   "source": [
    "Pseudo Code:"
   ]
  },
  {
   "cell_type": "markdown",
   "id": "0f8f862b",
   "metadata": {},
   "source": [
    "Potential Tests"
   ]
  },
  {
   "cell_type": "code",
   "execution_count": 1,
   "id": "ff5b9023",
   "metadata": {},
   "outputs": [],
   "source": [
    "#empty function \n",
    "\n"
   ]
  },
  {
   "cell_type": "code",
   "execution_count": 3,
   "id": "574c2bf9",
   "metadata": {},
   "outputs": [],
   "source": [
    "#tests"
   ]
  },
  {
   "cell_type": "code",
   "execution_count": null,
   "id": "d55e4aed",
   "metadata": {},
   "outputs": [],
   "source": []
  }
 ],
 "metadata": {
  "kernelspec": {
   "display_name": "Python 3",
   "language": "python",
   "name": "python3"
  },
  "language_info": {
   "codemirror_mode": {
    "name": "ipython",
    "version": 3
   },
   "file_extension": ".py",
   "mimetype": "text/x-python",
   "name": "python",
   "nbconvert_exporter": "python",
   "pygments_lexer": "ipython3",
   "version": "3.9.0"
  }
 },
 "nbformat": 4,
 "nbformat_minor": 5
}
