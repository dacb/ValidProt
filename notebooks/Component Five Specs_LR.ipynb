{
 "cells": [
  {
   "cell_type": "code",
   "execution_count": 2,
   "id": "c9477b4a",
   "metadata": {},
   "outputs": [],
   "source": [
    "#imports\n",
    "import matplotlib.pyplot as plt\n",
    "import seaborn as sns\n",
    "import pandas as pd\n",
    "import numpy as np\n",
    "import scipy.stats\n",
    "import sklearn.preprocessing\n",
    "import sklearn.model_selection\n",
    "import sklearn.neighbors\n",
    "import duckdb\n",
    "import unittest"
   ]
  },
  {
   "cell_type": "code",
   "execution_count": 14,
   "id": "b0db5958",
   "metadata": {},
   "outputs": [],
   "source": [
    "df = pd.read_csv(\"/Users/loganroberts/Learn2Therm/ValidProt/data/Sample.csv\")"
   ]
  },
  {
   "cell_type": "markdown",
   "id": "4c7ada06",
   "metadata": {},
   "source": [
    "# Software Component Five: s5.0_relation.py\n",
    "\n",
    "**Params:** \n",
    "\n",
    "**Inputs:** Pandas Dataframe containing Pfam return data. Includes quantitative features (ID, some metric of percent similarlity) and string of amino acid sequence.\n",
    "\n",
    "**Outputs:** Quantitative functional similarlity metric.\n",
    "\n",
    "**Metrics:**\n",
    "\n",
    "**Packages:** pandas, numpy, scipy, seaborn, fuzzywuzzy, unittest\n",
    "\n",
    "***\n",
    "***"
   ]
  },
  {
   "cell_type": "markdown",
   "id": "46814318",
   "metadata": {},
   "source": [
    "**Subcomponent 1**: Test for pandas dataframe input (**ALREADY TESTED WITH CODE**)\n",
    "\n",
    "**Use case**: User takes data from component 4 (where data is processed into pandas dataframe) and wants to pass it into relationship component."
   ]
  },
  {
   "cell_type": "markdown",
   "id": "21f59e36",
   "metadata": {},
   "source": [
    "```\n",
    "\n",
    "def check_input_type(dataframe):\n",
    "    tests that input data is a pandas dataframe with assert statement. \n",
    "    assert \"pandas.core.frame.DataFrame\" in str(type(dataframe)) \n",
    "    Output should pass unless assert statement fails.\n",
    "\n",
    "```"
   ]
  },
  {
   "cell_type": "code",
   "execution_count": 12,
   "id": "c8743f27",
   "metadata": {},
   "outputs": [],
   "source": [
    "#code\n",
    "\n",
    "def check_input_type(dataframe):\n",
    "    assert \"pandas.core.frame.DataFrame\" in str(type(dataframe)), 'Not a pandas dataframe!'"
   ]
  },
  {
   "cell_type": "markdown",
   "id": "d47a51d9",
   "metadata": {},
   "source": [
    "**Test**: N/A"
   ]
  },
  {
   "cell_type": "code",
   "execution_count": 13,
   "id": "4c6b2ae7",
   "metadata": {},
   "outputs": [
    {
     "name": "stderr",
     "output_type": "stream",
     "text": [
      ".\n",
      "----------------------------------------------------------------------\n",
      "Ran 1 test in 0.002s\n",
      "\n",
      "OK\n"
     ]
    }
   ],
   "source": [
    "#test code\n",
    "\n",
    "import unittest\n",
    "\n",
    "#unit tests - function 1 \n",
    "class TestInputType(unittest.TestCase):\n",
    "    \n",
    "    def test_input_type(self): \n",
    "        \"\"\"\n",
    "        Tests that input data is a pandas dataframe.\n",
    "        \n",
    "        \"\"\"\n",
    "        try:\n",
    "            check_input_type([4,3])\n",
    "            self.assertTrue(False)\n",
    "        except AssertionError:\n",
    "            self.assertTrue(True)\n",
    "        \n",
    "suite = unittest.TestLoader().loadTestsFromTestCase(TestInputType)\n",
    "_ = unittest.TextTestRunner().run(suite)"
   ]
  },
  {
   "cell_type": "markdown",
   "id": "092d5915",
   "metadata": {},
   "source": [
    "***\n",
    "***"
   ]
  },
  {
   "cell_type": "markdown",
   "id": "1d848e6a",
   "metadata": {},
   "source": [
    "**Subcomponent 2**: Checks that input data is cleaned property (does it have all of the features we need, and are the features we don't need removed).\n",
    "\n",
    "**Use case**: Input data does not include local E value, which we need as an input to our model."
   ]
  },
  {
   "cell_type": "markdown",
   "id": "64a87833",
   "metadata": {},
   "source": [
    "(**NOT TESTED WITH CODE**)\n",
    "```\n",
    "def check_input_strings(dataframe):\n",
    "    \n",
    "      if 'badstring' in dataframe[]:\n",
    "          dataframe = dataframe.drop(dataframe['string']\n",
    "      else:\n",
    "          pass\n",
    "          \n",
    "      if 'goodstring' not in dataframe[]:\n",
    "          raise KeyError\n",
    "      else:\n",
    "          pass\n",
    "```"
   ]
  },
  {
   "cell_type": "code",
   "execution_count": 22,
   "id": "89a476b7",
   "metadata": {},
   "outputs": [],
   "source": [
    "#CODE \n",
    "\n",
    "def clean_input_columns(dataframe):\n",
    "    \"\"\"\n",
    "    We want to clean certain columns out of the Pfam dataframe. For now, let's ensure that the dataframe \n",
    "    is missing 'Unnamed: 0', 'meso_seq', 'thermo_seq', and 'prot_pair_index'.\n",
    "    \n",
    "    Input: Pandas dataframe (from Pfam)\n",
    "    Output: Updated dataframe.\n",
    "    \"\"\"\n",
    "    \n",
    "    for title in ['Unnamed: 0','meso_seq', 'thermo_seq', 'prot_pair_index']:\n",
    "        if title in dataframe:\n",
    "            dataframe = dataframe.drop(columns = title)\n",
    "        else:\n",
    "            pass\n",
    "    \n",
    "    return dataframe"
   ]
  },
  {
   "cell_type": "code",
   "execution_count": 40,
   "id": "824ffd7f",
   "metadata": {},
   "outputs": [],
   "source": [
    "#CODE \n",
    "\n",
    "def check_input_columns(dataframe):\n",
    "    for title in ['meso_ogt', 'thermo_ogt', 'scaled_local_symmetric_percent_id',\n",
    "                  'local_E_value', 'scaled_local_query_percent_id', 'local_gap_compressed_percent_id']:\n",
    "        \n",
    "        if title not in dataframe:\n",
    "            raise KeyError\n",
    "        else:\n",
    "            pass\n",
    "    \n",
    "    return dataframe"
   ]
  },
  {
   "cell_type": "markdown",
   "id": "2b7df407",
   "metadata": {},
   "source": [
    "**Test**: \n",
    "1) \n",
    "    import unittest\n",
    "    class TestMissingStrings(unittest.TestCase):\n",
    "    ```\n",
    "        def test_missing_strings(self):\n",
    "            try:\n",
    "                check_input_strings(dataframe)\n",
    "                self.assertTrue(False)\n",
    "            except ValueError:\n",
    "                self.assertTrue(True)\n",
    "```"
   ]
  },
  {
   "cell_type": "code",
   "execution_count": 33,
   "id": "c8db0f5e",
   "metadata": {},
   "outputs": [],
   "source": [
    "#CODE\n",
    "\n",
    "def check_input_NANs(dataframe):\n",
    "    \"\"\"\n",
    "    Checks for NaN values in input dataframe. Removes rows with NaN values present.\n",
    "\n",
    "    Input: Pandas dataframe\n",
    "    Output: Pandas dataframe\n",
    "\n",
    "    \"\"\"\n",
    "    has_nan = dataframe.isna().any().any()\n",
    "    nan_rows = dataframe[dataframe.isna().any(axis=1)]\n",
    "\n",
    "    if has_nan:\n",
    "        print('Dataframe has {} rows with NaN values!'.format(len(nan_rows)))\n",
    "    else:\n",
    "        print(\"DataFrame does not have any NaN values.\")\n",
    "\n",
    "    #Drop rows with NaN's\n",
    "    dataframe = dataframe.dropna()\n",
    "    print('Dataframe now has {} rows.'.format(len(dataframe)))\n",
    "\n",
    "    return dataframe"
   ]
  },
  {
   "cell_type": "markdown",
   "id": "4b3240e9",
   "metadata": {},
   "source": [
    "Test: 1)"
   ]
  },
  {
   "cell_type": "code",
   "execution_count": 39,
   "id": "c1b34090",
   "metadata": {},
   "outputs": [],
   "source": [
    "#(**NOT TESTED WITH CODE**)\n",
    "\n",
    "def verify_protein_pair(dataframe):\n",
    "    \"\"\"\n",
    "    Checks that input data has two protein sequences. Will need to generalize this function other data sets \n",
    "    to simply make sure two sequences are entered. Code below is for our protein database\n",
    "    \"\"\"\n",
    "    assert dataframe['meso_ogt'] in dataframe, 'Dataframe missing mesophillic sequence!'\n",
    "    assert dataframe['thermo_ogt'] in dataframe, 'Dataframe missing thermophillic sequence!'\n",
    "    \n",
    "        \n",
    "    if len(sequence1) != len(sequence2):\n",
    "        raise ValueError\n",
    "    else:\n",
    "        pass"
   ]
  },
  {
   "cell_type": "markdown",
   "id": "96c944b0",
   "metadata": {},
   "source": [
    "**Test**: \n",
    "1) \n",
    "    import unittest\n",
    "    class TestProteinPairs(unittest.TestCase):\n",
    "    ```\n",
    "        def test_protein_pair(self):\n",
    "            try:\n",
    "                verify_protein_pairs(dataframe)\n",
    "                self.assertTrue(False)\n",
    "            except ValueError:\n",
    "                self.assertTrue(True)\n",
    "```"
   ]
  },
  {
   "cell_type": "markdown",
   "id": "4fbea93f",
   "metadata": {},
   "source": [
    "***\n",
    "***"
   ]
  },
  {
   "cell_type": "markdown",
   "id": "cb70683a",
   "metadata": {},
   "source": [
    "**Subcomponent 3**: Train the model with sample data. (**NOT TESTED WITH CODE**)\n",
    "\n",
    "**Use case**:"
   ]
  },
  {
   "cell_type": "markdown",
   "id": "bf9ee196",
   "metadata": {},
   "source": [
    "```\n",
    "def train_model(dataframe):\n",
    "    import scipy, numpy\n",
    "    Split data into dev and test (0.8/0.2 for now)\n",
    "    Train model (KNN Linear Regression for now)\n",
    "    Output: Print('Training successful!')\n",
    "```"
   ]
  },
  {
   "cell_type": "markdown",
   "id": "be13bd0d",
   "metadata": {},
   "source": [
    "**Test**: \n",
    "\n",
    "1) assert len(dataframe)*0.8 == len(dev_data)"
   ]
  },
  {
   "cell_type": "markdown",
   "id": "9949eb32",
   "metadata": {},
   "source": [
    "***\n",
    "***"
   ]
  },
  {
   "cell_type": "markdown",
   "id": "9da48462",
   "metadata": {},
   "source": [
    "**Subcomponent 4**: Test the model with sample data. (**NOT TESTED WITH CODE**)\n",
    "\n",
    "**Use case**:"
   ]
  },
  {
   "cell_type": "markdown",
   "id": "4cc10c78",
   "metadata": {},
   "source": [
    "```\n",
    "def test_model(dataframe):\n",
    "    Runs data through model (linear regression (KNN?)\n",
    "    Output: Returns model_score, confusion matrix, MSE\n",
    "```"
   ]
  },
  {
   "cell_type": "markdown",
   "id": "624fea62",
   "metadata": {},
   "source": [
    "**Test**: "
   ]
  },
  {
   "cell_type": "markdown",
   "id": "36a1e069",
   "metadata": {},
   "source": [
    "***\n",
    "***"
   ]
  },
  {
   "cell_type": "markdown",
   "id": "cc838802",
   "metadata": {},
   "source": [
    "**Subcomponent 5**: Run confidence test on model output. (**NOT TESTED WITH CODE**)\n",
    "\n",
    "**Use case:**"
   ]
  },
  {
   "cell_type": "markdown",
   "id": "ea2f63fc",
   "metadata": {},
   "source": [
    "```\n",
    "def check_model_confidence(model_score, ci_data):\n",
    "    Runs a statistical test on model output and compares it to sample\n",
    "    Output: Returns a confidence score along with the model score\n",
    "```"
   ]
  },
  {
   "cell_type": "markdown",
   "id": "db29eebe",
   "metadata": {},
   "source": [
    "**Test**: \n",
    "1) Run confidence test on some data for which we know the confidence score assert that the score is correct using numpy.isclose( )"
   ]
  },
  {
   "cell_type": "markdown",
   "id": "42bb3a51",
   "metadata": {},
   "source": [
    "***\n",
    "***"
   ]
  },
  {
   "cell_type": "markdown",
   "id": "bbc870d0",
   "metadata": {},
   "source": [
    "**Subcomponent 6**: Calculate a 'functionality' metric that is the ultimate output of component five. This will factor in information from multiple software, not just Pfam. This will be built during spring quarter. (**NOT TESTED WITH CODE**)\n",
    "\n",
    "**Use case:** We need to test that our protein pairs have a near maximal functionality score! This can be used as a basis for eventual user input scores."
   ]
  },
  {
   "cell_type": "markdown",
   "id": "1b2ff489",
   "metadata": {},
   "source": [
    "```\n",
    "def calculate_functionality(model_score, dataframe):\n",
    "    runs user input data through some mathematical manipulation of their model score and input data\n",
    "    Output: returns a functionality score, print statement categorizing functionality score\n",
    "```"
   ]
  },
  {
   "cell_type": "markdown",
   "id": "e9680a04",
   "metadata": {},
   "source": [
    "**Test**: "
   ]
  },
  {
   "cell_type": "markdown",
   "id": "fc70508c",
   "metadata": {},
   "source": [
    "***\n",
    "***"
   ]
  },
  {
   "cell_type": "markdown",
   "id": "505921de",
   "metadata": {},
   "source": [
    "# Plan Outline"
   ]
  },
  {
   "cell_type": "markdown",
   "id": "0e089f73",
   "metadata": {},
   "source": [
    "1. Get data from component 4. This should already be in a pandas dataframe (data prep is included in C4)\n",
    "2. Clean the data to prepare it for model training and testing\n",
    "3. Train and test the model, return scores, MSE, and any other necessary indicator of model performance\n",
    "4. Run confidence test on model output to determine quality of output\n",
    "5. Input new user data and return a functionality score for the input protein pair"
   ]
  },
  {
   "cell_type": "code",
   "execution_count": null,
   "id": "02663a78",
   "metadata": {},
   "outputs": [],
   "source": []
  }
 ],
 "metadata": {
  "kernelspec": {
   "display_name": "Python 3",
   "language": "python",
   "name": "python3"
  },
  "language_info": {
   "codemirror_mode": {
    "name": "ipython",
    "version": 3
   },
   "file_extension": ".py",
   "mimetype": "text/x-python",
   "name": "python",
   "nbconvert_exporter": "python",
   "pygments_lexer": "ipython3",
   "version": "3.9.0"
  }
 },
 "nbformat": 4,
 "nbformat_minor": 5
}
