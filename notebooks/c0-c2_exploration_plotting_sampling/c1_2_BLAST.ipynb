{
 "cells": [
  {
   "cell_type": "markdown",
   "id": "500f3b2c",
   "metadata": {},
   "source": [
    "### Notes\n",
    "\n",
    "- Evan used Smith-Waterman for original library generation. Let's stick with this for now.\n",
    "- How much of an issue is speed? Need to compute this for several packages if biopython is slow for millions of pairs.\n",
    "- adapted code from https://www.biostars.org/p/42687/ (old python 2 code. May not actually use)\n",
    "- https://lh3.github.io/2018/11/25/on-the-definition-of-sequence-identity useful description of compressed id\n",
    "- https://www.youtube.com/watch?v=oxHuUdYLA7E&t=587s&ab_channel=LanaCaldarevic\n",
    "\n",
    "**Found Evan's BLAST code. Turns out all of the metrics were computed by hand from alignments. This squares with my reading about BioPython. Looks like we can just adapt some of his code, then just use BioPython to obtain the alignments themselves.**"
   ]
  },
  {
   "cell_type": "code",
   "execution_count": 1,
   "id": "a151b1db",
   "metadata": {},
   "outputs": [],
   "source": [
    "import pandas as pd\n",
    "import numpy as np\n",
    "import matplotlib.pyplot as plt\n",
    "import seaborn as sns\n",
    "import io"
   ]
  },
  {
   "cell_type": "code",
   "execution_count": 2,
   "id": "909a555f",
   "metadata": {},
   "outputs": [],
   "source": [
    "from Bio.Blast.Applications import NcbiblastpCommandline\n",
    "from Bio.Blast import NCBIXML\n",
    "from Bio.Seq import Seq\n",
    "from Bio.SeqRecord import SeqRecord\n",
    "from Bio import SeqIO\n",
    "\n",
    "# https://biopython.org/docs/1.75/api/Bio.pairwise2.html\n",
    "from Bio import pairwise2\n",
    "from Bio.Align import substitution_matrices"
   ]
  },
  {
   "cell_type": "code",
   "execution_count": 3,
   "id": "d7c54dfb",
   "metadata": {},
   "outputs": [
    {
     "name": "stdout",
     "output_type": "stream",
     "text": [
      "Unnamed: 0                                                                               0\n",
      "local_gap_compressed_percent_id                                                   0.287582\n",
      "scaled_local_query_percent_id                                                     0.217822\n",
      "scaled_local_symmetric_percent_id                                                 0.215686\n",
      "query_align_len                                                                        160\n",
      "query_align_cov                                                                   0.792079\n",
      "subject_align_len                                                                      152\n",
      "subject_align_cov                                                                 0.737864\n",
      "bit_score                                                                              131\n",
      "thermo_index                                                                           875\n",
      "meso_index                                                                           12897\n",
      "prot_pair_index                                                                   48641291\n",
      "meso_protein_int_index                                                            48234042\n",
      "thermo_protein_int_index                                                          16287232\n",
      "taxa_pair_index                                                                      32068\n",
      "local_gap_compressed_percent_id_16s                                                0.92464\n",
      "scaled_local_query_percent_id_16s                                                  0.92162\n",
      "scaled_local_symmetric_percent_id_16s                                             0.926461\n",
      "query_align_cov_16s                                                                0.99804\n",
      "subject_align_cov_16s                                                              0.99802\n",
      "bit_score_16s                                                                       1153.0\n",
      "m_ogt                                                                                 27.5\n",
      "t_ogt                                                                                 50.0\n",
      "ogt_difference                                                                        22.5\n",
      "m_protein_seq                            MAESGTSRRADHLVPVPGPDAEPPAVADELLRAVGRGDEQAFGRLY...\n",
      "t_protein_seq                            MPSQITESERIELAERFERDALPLLDQLYSAALRMTRNPADAEDLV...\n",
      "m_protein_desc                                        ECF RNA polymerase sigma factor SigK\n",
      "t_protein_desc                                 sigma-70 family RNA polymerase sigma factor\n",
      "m_protein_len                                                                          206\n",
      "t_protein_len                                                                          202\n",
      "Name: 0, dtype: object\n"
     ]
    }
   ],
   "source": [
    "s50k = pd.read_csv('../learn2therm_sample_50k_exploration.csv')\n",
    "print(s50k.iloc[0])"
   ]
  },
  {
   "cell_type": "code",
   "execution_count": 4,
   "id": "c28034e9",
   "metadata": {},
   "outputs": [],
   "source": [
    "metrics = ['local_gap_compressed_percent_id', 'scaled_local_query_percent_id','scaled_local_symmetric_percent_id',\n",
    "           'query_align_len','query_align_cov','subject_align_len','subject_align_cov','bit_score']"
   ]
  },
  {
   "cell_type": "code",
   "execution_count": 5,
   "id": "c9886e28",
   "metadata": {},
   "outputs": [
    {
     "name": "stdout",
     "output_type": "stream",
     "text": [
      "local_gap_compressed_percent_id      0.287582\n",
      "scaled_local_query_percent_id        0.217822\n",
      "scaled_local_symmetric_percent_id    0.215686\n",
      "query_align_len                           160\n",
      "query_align_cov                      0.792079\n",
      "subject_align_len                         152\n",
      "subject_align_cov                    0.737864\n",
      "bit_score                                 131\n",
      "Name: 0, dtype: object\n"
     ]
    }
   ],
   "source": [
    "print(s50k.iloc[0][metrics])"
   ]
  },
  {
   "cell_type": "code",
   "execution_count": 6,
   "id": "9daaf8b5",
   "metadata": {},
   "outputs": [],
   "source": [
    "seq_s1 = s50k.iloc[0][['m_protein_seq','t_protein_seq']]"
   ]
  },
  {
   "cell_type": "code",
   "execution_count": 7,
   "id": "c66039e3",
   "metadata": {},
   "outputs": [
    {
     "data": {
      "text/plain": [
       "'MAESGTSRRADHLVPVPGPDAEPPAVADELLRAVGRGDEQAFGRLYDLLAPRVYGLIRRVLRDPALAEEVTQEVLVEVWRRAARFDPAQGSANAWVFTIAHRRAVDRVRAEQKAADRTVRAGAAALDSPYDSVADEVSGRLERRQVRHCLDALTGLQREVVTLAYYQGHSYPQVAELLKTPLGTVKTRMRDGLIRLRDCLGVEATA'"
      ]
     },
     "execution_count": 7,
     "metadata": {},
     "output_type": "execute_result"
    }
   ],
   "source": [
    "seq_s1[0]"
   ]
  },
  {
   "cell_type": "code",
   "execution_count": 8,
   "id": "e8f7b321",
   "metadata": {},
   "outputs": [],
   "source": [
    "# # Create two sequence files\n",
    "# seq1 = SeqRecord(Seq(seq_s1[0]), id=\"seq1\")\n",
    "# seq2 = SeqRecord(Seq(seq_s1[1]), id=\"seq2\")\n",
    "\n",
    "# SeqIO.write(seq1, \"seq1.fasta\", \"fasta\")\n",
    "# SeqIO.write(seq2, \"seq2.fasta\", \"fasta\")\n",
    "\n",
    "# # Run BLAST and parse the output as XML\n",
    "# output = NcbiblastpCommandline(query=\"seq1.fasta\", subject=\"seq2.fasta\", outfmt=5)()[0]\n",
    "# blast_result_record = NCBIXML.read(StringIO(output))\n",
    "\n",
    "# # Print some information on the result\n",
    "# for alignment in blast_result_record.alignments:\n",
    "#     for hsp in alignment.hsps:\n",
    "#         print('****Alignment****')\n",
    "#         print('sequence:', alignment.title)\n",
    "#         print('length:', alignment.length)\n",
    "#         print('e value:', hsp.expect)\n",
    "#         print(hsp.query)\n",
    "#         print(hsp.match)\n",
    "#         print(hsp.sbjct)"
   ]
  },
  {
   "cell_type": "code",
   "execution_count": 9,
   "id": "4ad1a128",
   "metadata": {},
   "outputs": [],
   "source": [
    "matrix = substitution_matrices.load('BLOSUM62')\n",
    "alignments = pairwise2.align.localds(seq_s1[0], seq_s1[1], match_dict = matrix, open = -11, extend = -1)"
   ]
  },
  {
   "cell_type": "code",
   "execution_count": 10,
   "id": "22345b1f",
   "metadata": {},
   "outputs": [
    {
     "data": {
      "text/plain": [
       "Alignment(seqA='MAESGTSRRADHLVPVPGPDAEPPAVADELLRAVGRGDEQAFGRLYDLLAPRVYGLIRRVLRDPALAEEVTQEVLVEVWRRAARFDPAQGSANAWVFTIAHRRAVDRVRAEQK---------AADRTVRAGAAALDSPYDSVADEVSGRLERRQVRHCLDALTGLQREVVTLAYYQGHSYPQVAELLKTPLGTVKTRMRDGLIRLRDCLGVEATA-------------', seqB='-------------------------MPSQITESERIELAERFERDALPLLDQLYSAALRMTRNPADAEDLVQETYLKAYNAFASFKEGT-NLKAWLYRILTNTYINSYRKKQRQPLQQPAEDITDWQLAQAESHTSRGLRSAEVEALEQLPDADVKDALQRLPEDFRLAVYLADVEGFSYKEIAEIMGTPIGTVMSRLHRGRGRLRELLADVARERGFIKQGVEVAKR', score=142.0, start=48, end=209)"
      ]
     },
     "execution_count": 10,
     "metadata": {},
     "output_type": "execute_result"
    }
   ],
   "source": [
    "alignments[0]"
   ]
  },
  {
   "cell_type": "code",
   "execution_count": 11,
   "id": "04d23207",
   "metadata": {},
   "outputs": [
    {
     "data": {
      "text/plain": [
       "3"
      ]
     },
     "execution_count": 11,
     "metadata": {},
     "output_type": "execute_result"
    }
   ],
   "source": [
    "len(alignments)"
   ]
  },
  {
   "cell_type": "code",
   "execution_count": null,
   "id": "86a02f13",
   "metadata": {},
   "outputs": [],
   "source": []
  }
 ],
 "metadata": {
  "kernelspec": {
   "display_name": "Python 3 (ipykernel)",
   "language": "python",
   "name": "python3"
  },
  "language_info": {
   "codemirror_mode": {
    "name": "ipython",
    "version": 3
   },
   "file_extension": ".py",
   "mimetype": "text/x-python",
   "name": "python",
   "nbconvert_exporter": "python",
   "pygments_lexer": "ipython3",
   "version": "3.10.9"
  }
 },
 "nbformat": 4,
 "nbformat_minor": 5
}
